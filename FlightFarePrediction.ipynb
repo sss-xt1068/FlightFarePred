{
  "cells": [
    {
      "cell_type": "markdown",
      "metadata": {
        "id": "RSFOgEnJw6aH"
      },
      "source": [
        "# Flight Fare Prediction Project:\n",
        "- Credits: MachineHack by Analytics India Magazine\n",
        "- Data collected from **2019**\n",
        "\n",
        "<img src=\"https://res.cloudinary.com/wegowordpress/images/f_auto,q_auto/v1589299940/shutterstock_559714906_auhzh1/shutterstock_559714906_auhzh1.jpg\" width=500px></img><br>\n",
        "---\n",
        "<font size=4> Where are you departing from? ✈</font><br>\n",
        "<font size=4> Where are you flying to?</font><br>\n",
        "<font size=4> Is it a vacation season? </font> <font color='red'> Worried </font> about the prices?<br>\n",
        "<font size=4> This code will predict it for you 😁</font><br>"
      ]
    },
    {
      "cell_type": "markdown",
      "metadata": {
        "id": "ap25-XxAw6aK"
      },
      "source": [
        "## Step 0: Import libraries and describe data"
      ]
    },
    {
      "cell_type": "code",
      "execution_count": 1,
      "metadata": {
        "id": "r58mFSe3w6aK"
      },
      "outputs": [],
      "source": [
        "import pandas as pd\n",
        "import numpy as np\n",
        "import matplotlib.pyplot as plt\n",
        "import seaborn as sns\n",
        "import re\n",
        "import pickle\n",
        "%matplotlib inline"
      ]
    },
    {
      "cell_type": "code",
      "execution_count": 2,
      "metadata": {
        "id": "KP1PlJcLw6aL"
      },
      "outputs": [],
      "source": [
        "from sklearn.ensemble import ExtraTreesRegressor, RandomForestRegressor\n",
        "from sklearn.model_selection import train_test_split, RandomizedSearchCV, GridSearchCV, KFold\n",
        "from lightgbm import LGBMRegressor\n",
        "from sklearn.linear_model import Lasso, Ridge\n",
        "from sklearn.metrics import mean_squared_error, mean_absolute_error, r2_score"
      ]
    },
    {
      "cell_type": "code",
      "execution_count": 3,
      "metadata": {
        "colab": {
          "base_uri": "https://localhost:8080/",
          "height": 267
        },
        "id": "y67WcKQCw6aM",
        "outputId": "d684984c-cd00-4928-b564-908344536fe7"
      },
      "outputs": [
        {
          "data": {
            "text/html": [
              "<div>\n",
              "<style scoped>\n",
              "    .dataframe tbody tr th:only-of-type {\n",
              "        vertical-align: middle;\n",
              "    }\n",
              "\n",
              "    .dataframe tbody tr th {\n",
              "        vertical-align: top;\n",
              "    }\n",
              "\n",
              "    .dataframe thead th {\n",
              "        text-align: right;\n",
              "    }\n",
              "</style>\n",
              "<table border=\"1\" class=\"dataframe\">\n",
              "  <thead>\n",
              "    <tr style=\"text-align: right;\">\n",
              "      <th></th>\n",
              "      <th>Airline</th>\n",
              "      <th>Date_of_Journey</th>\n",
              "      <th>Source</th>\n",
              "      <th>Destination</th>\n",
              "      <th>Route</th>\n",
              "      <th>Dep_Time</th>\n",
              "      <th>Arrival_Time</th>\n",
              "      <th>Duration</th>\n",
              "      <th>Total_Stops</th>\n",
              "      <th>Additional_Info</th>\n",
              "      <th>Price</th>\n",
              "    </tr>\n",
              "  </thead>\n",
              "  <tbody>\n",
              "    <tr>\n",
              "      <th>0</th>\n",
              "      <td>IndiGo</td>\n",
              "      <td>24/03/2019</td>\n",
              "      <td>Banglore</td>\n",
              "      <td>New Delhi</td>\n",
              "      <td>BLR → DEL</td>\n",
              "      <td>22:20</td>\n",
              "      <td>01:10 22 Mar</td>\n",
              "      <td>2h 50m</td>\n",
              "      <td>non-stop</td>\n",
              "      <td>No info</td>\n",
              "      <td>3897</td>\n",
              "    </tr>\n",
              "    <tr>\n",
              "      <th>1</th>\n",
              "      <td>Air India</td>\n",
              "      <td>1/05/2019</td>\n",
              "      <td>Kolkata</td>\n",
              "      <td>Banglore</td>\n",
              "      <td>CCU → IXR → BBI → BLR</td>\n",
              "      <td>05:50</td>\n",
              "      <td>13:15</td>\n",
              "      <td>7h 25m</td>\n",
              "      <td>2 stops</td>\n",
              "      <td>No info</td>\n",
              "      <td>7662</td>\n",
              "    </tr>\n",
              "    <tr>\n",
              "      <th>2</th>\n",
              "      <td>Jet Airways</td>\n",
              "      <td>9/06/2019</td>\n",
              "      <td>Delhi</td>\n",
              "      <td>Cochin</td>\n",
              "      <td>DEL → LKO → BOM → COK</td>\n",
              "      <td>09:25</td>\n",
              "      <td>04:25 10 Jun</td>\n",
              "      <td>19h</td>\n",
              "      <td>2 stops</td>\n",
              "      <td>No info</td>\n",
              "      <td>13882</td>\n",
              "    </tr>\n",
              "    <tr>\n",
              "      <th>3</th>\n",
              "      <td>IndiGo</td>\n",
              "      <td>12/05/2019</td>\n",
              "      <td>Kolkata</td>\n",
              "      <td>Banglore</td>\n",
              "      <td>CCU → NAG → BLR</td>\n",
              "      <td>18:05</td>\n",
              "      <td>23:30</td>\n",
              "      <td>5h 25m</td>\n",
              "      <td>1 stop</td>\n",
              "      <td>No info</td>\n",
              "      <td>6218</td>\n",
              "    </tr>\n",
              "    <tr>\n",
              "      <th>4</th>\n",
              "      <td>IndiGo</td>\n",
              "      <td>01/03/2019</td>\n",
              "      <td>Banglore</td>\n",
              "      <td>New Delhi</td>\n",
              "      <td>BLR → NAG → DEL</td>\n",
              "      <td>16:50</td>\n",
              "      <td>21:35</td>\n",
              "      <td>4h 45m</td>\n",
              "      <td>1 stop</td>\n",
              "      <td>No info</td>\n",
              "      <td>13302</td>\n",
              "    </tr>\n",
              "  </tbody>\n",
              "</table>\n",
              "</div>"
            ],
            "text/plain": [
              "       Airline Date_of_Journey    Source Destination                  Route  \\\n",
              "0       IndiGo      24/03/2019  Banglore   New Delhi              BLR → DEL   \n",
              "1    Air India       1/05/2019   Kolkata    Banglore  CCU → IXR → BBI → BLR   \n",
              "2  Jet Airways       9/06/2019     Delhi      Cochin  DEL → LKO → BOM → COK   \n",
              "3       IndiGo      12/05/2019   Kolkata    Banglore        CCU → NAG → BLR   \n",
              "4       IndiGo      01/03/2019  Banglore   New Delhi        BLR → NAG → DEL   \n",
              "\n",
              "  Dep_Time  Arrival_Time Duration Total_Stops Additional_Info  Price  \n",
              "0    22:20  01:10 22 Mar   2h 50m    non-stop         No info   3897  \n",
              "1    05:50         13:15   7h 25m     2 stops         No info   7662  \n",
              "2    09:25  04:25 10 Jun      19h     2 stops         No info  13882  \n",
              "3    18:05         23:30   5h 25m      1 stop         No info   6218  \n",
              "4    16:50         21:35   4h 45m      1 stop         No info  13302  "
            ]
          },
          "execution_count": 3,
          "metadata": {},
          "output_type": "execute_result"
        }
      ],
      "source": [
        "train = pd.read_excel('Data_Train.xlsx')\n",
        "df = train.copy()\n",
        "df.head()"
      ]
    },
    {
      "cell_type": "code",
      "execution_count": 4,
      "metadata": {
        "colab": {
          "base_uri": "https://localhost:8080/",
          "height": 455
        },
        "id": "MQsGkZaqw6aN",
        "outputId": "7262a807-24ab-42e0-f923-ab6ac17e24e4"
      },
      "outputs": [
        {
          "data": {
            "text/html": [
              "<div>\n",
              "<style scoped>\n",
              "    .dataframe tbody tr th:only-of-type {\n",
              "        vertical-align: middle;\n",
              "    }\n",
              "\n",
              "    .dataframe tbody tr th {\n",
              "        vertical-align: top;\n",
              "    }\n",
              "\n",
              "    .dataframe thead th {\n",
              "        text-align: right;\n",
              "    }\n",
              "</style>\n",
              "<table border=\"1\" class=\"dataframe\">\n",
              "  <thead>\n",
              "    <tr style=\"text-align: right;\">\n",
              "      <th></th>\n",
              "      <th>Airline</th>\n",
              "      <th>Date_of_Journey</th>\n",
              "      <th>Source</th>\n",
              "      <th>Destination</th>\n",
              "      <th>Route</th>\n",
              "      <th>Dep_Time</th>\n",
              "      <th>Arrival_Time</th>\n",
              "      <th>Duration</th>\n",
              "      <th>Total_Stops</th>\n",
              "      <th>Additional_Info</th>\n",
              "      <th>Price</th>\n",
              "    </tr>\n",
              "  </thead>\n",
              "  <tbody>\n",
              "    <tr>\n",
              "      <th>count</th>\n",
              "      <td>10683</td>\n",
              "      <td>10683</td>\n",
              "      <td>10683</td>\n",
              "      <td>10683</td>\n",
              "      <td>10682</td>\n",
              "      <td>10683</td>\n",
              "      <td>10683</td>\n",
              "      <td>10683</td>\n",
              "      <td>10682</td>\n",
              "      <td>10683</td>\n",
              "      <td>10683.000000</td>\n",
              "    </tr>\n",
              "    <tr>\n",
              "      <th>unique</th>\n",
              "      <td>12</td>\n",
              "      <td>44</td>\n",
              "      <td>5</td>\n",
              "      <td>6</td>\n",
              "      <td>128</td>\n",
              "      <td>222</td>\n",
              "      <td>1343</td>\n",
              "      <td>368</td>\n",
              "      <td>5</td>\n",
              "      <td>10</td>\n",
              "      <td>NaN</td>\n",
              "    </tr>\n",
              "    <tr>\n",
              "      <th>top</th>\n",
              "      <td>Jet Airways</td>\n",
              "      <td>18/05/2019</td>\n",
              "      <td>Delhi</td>\n",
              "      <td>Cochin</td>\n",
              "      <td>DEL → BOM → COK</td>\n",
              "      <td>18:55</td>\n",
              "      <td>19:00</td>\n",
              "      <td>2h 50m</td>\n",
              "      <td>1 stop</td>\n",
              "      <td>No info</td>\n",
              "      <td>NaN</td>\n",
              "    </tr>\n",
              "    <tr>\n",
              "      <th>freq</th>\n",
              "      <td>3849</td>\n",
              "      <td>504</td>\n",
              "      <td>4537</td>\n",
              "      <td>4537</td>\n",
              "      <td>2376</td>\n",
              "      <td>233</td>\n",
              "      <td>423</td>\n",
              "      <td>550</td>\n",
              "      <td>5625</td>\n",
              "      <td>8345</td>\n",
              "      <td>NaN</td>\n",
              "    </tr>\n",
              "    <tr>\n",
              "      <th>mean</th>\n",
              "      <td>NaN</td>\n",
              "      <td>NaN</td>\n",
              "      <td>NaN</td>\n",
              "      <td>NaN</td>\n",
              "      <td>NaN</td>\n",
              "      <td>NaN</td>\n",
              "      <td>NaN</td>\n",
              "      <td>NaN</td>\n",
              "      <td>NaN</td>\n",
              "      <td>NaN</td>\n",
              "      <td>9087.064121</td>\n",
              "    </tr>\n",
              "    <tr>\n",
              "      <th>std</th>\n",
              "      <td>NaN</td>\n",
              "      <td>NaN</td>\n",
              "      <td>NaN</td>\n",
              "      <td>NaN</td>\n",
              "      <td>NaN</td>\n",
              "      <td>NaN</td>\n",
              "      <td>NaN</td>\n",
              "      <td>NaN</td>\n",
              "      <td>NaN</td>\n",
              "      <td>NaN</td>\n",
              "      <td>4611.359167</td>\n",
              "    </tr>\n",
              "    <tr>\n",
              "      <th>min</th>\n",
              "      <td>NaN</td>\n",
              "      <td>NaN</td>\n",
              "      <td>NaN</td>\n",
              "      <td>NaN</td>\n",
              "      <td>NaN</td>\n",
              "      <td>NaN</td>\n",
              "      <td>NaN</td>\n",
              "      <td>NaN</td>\n",
              "      <td>NaN</td>\n",
              "      <td>NaN</td>\n",
              "      <td>1759.000000</td>\n",
              "    </tr>\n",
              "    <tr>\n",
              "      <th>25%</th>\n",
              "      <td>NaN</td>\n",
              "      <td>NaN</td>\n",
              "      <td>NaN</td>\n",
              "      <td>NaN</td>\n",
              "      <td>NaN</td>\n",
              "      <td>NaN</td>\n",
              "      <td>NaN</td>\n",
              "      <td>NaN</td>\n",
              "      <td>NaN</td>\n",
              "      <td>NaN</td>\n",
              "      <td>5277.000000</td>\n",
              "    </tr>\n",
              "    <tr>\n",
              "      <th>50%</th>\n",
              "      <td>NaN</td>\n",
              "      <td>NaN</td>\n",
              "      <td>NaN</td>\n",
              "      <td>NaN</td>\n",
              "      <td>NaN</td>\n",
              "      <td>NaN</td>\n",
              "      <td>NaN</td>\n",
              "      <td>NaN</td>\n",
              "      <td>NaN</td>\n",
              "      <td>NaN</td>\n",
              "      <td>8372.000000</td>\n",
              "    </tr>\n",
              "    <tr>\n",
              "      <th>75%</th>\n",
              "      <td>NaN</td>\n",
              "      <td>NaN</td>\n",
              "      <td>NaN</td>\n",
              "      <td>NaN</td>\n",
              "      <td>NaN</td>\n",
              "      <td>NaN</td>\n",
              "      <td>NaN</td>\n",
              "      <td>NaN</td>\n",
              "      <td>NaN</td>\n",
              "      <td>NaN</td>\n",
              "      <td>12373.000000</td>\n",
              "    </tr>\n",
              "    <tr>\n",
              "      <th>max</th>\n",
              "      <td>NaN</td>\n",
              "      <td>NaN</td>\n",
              "      <td>NaN</td>\n",
              "      <td>NaN</td>\n",
              "      <td>NaN</td>\n",
              "      <td>NaN</td>\n",
              "      <td>NaN</td>\n",
              "      <td>NaN</td>\n",
              "      <td>NaN</td>\n",
              "      <td>NaN</td>\n",
              "      <td>79512.000000</td>\n",
              "    </tr>\n",
              "  </tbody>\n",
              "</table>\n",
              "</div>"
            ],
            "text/plain": [
              "            Airline Date_of_Journey Source Destination            Route  \\\n",
              "count         10683           10683  10683       10683            10682   \n",
              "unique           12              44      5           6              128   \n",
              "top     Jet Airways      18/05/2019  Delhi      Cochin  DEL → BOM → COK   \n",
              "freq           3849             504   4537        4537             2376   \n",
              "mean            NaN             NaN    NaN         NaN              NaN   \n",
              "std             NaN             NaN    NaN         NaN              NaN   \n",
              "min             NaN             NaN    NaN         NaN              NaN   \n",
              "25%             NaN             NaN    NaN         NaN              NaN   \n",
              "50%             NaN             NaN    NaN         NaN              NaN   \n",
              "75%             NaN             NaN    NaN         NaN              NaN   \n",
              "max             NaN             NaN    NaN         NaN              NaN   \n",
              "\n",
              "       Dep_Time Arrival_Time Duration Total_Stops Additional_Info  \\\n",
              "count     10683        10683    10683       10682           10683   \n",
              "unique      222         1343      368           5              10   \n",
              "top       18:55        19:00   2h 50m      1 stop         No info   \n",
              "freq        233          423      550        5625            8345   \n",
              "mean        NaN          NaN      NaN         NaN             NaN   \n",
              "std         NaN          NaN      NaN         NaN             NaN   \n",
              "min         NaN          NaN      NaN         NaN             NaN   \n",
              "25%         NaN          NaN      NaN         NaN             NaN   \n",
              "50%         NaN          NaN      NaN         NaN             NaN   \n",
              "75%         NaN          NaN      NaN         NaN             NaN   \n",
              "max         NaN          NaN      NaN         NaN             NaN   \n",
              "\n",
              "               Price  \n",
              "count   10683.000000  \n",
              "unique           NaN  \n",
              "top              NaN  \n",
              "freq             NaN  \n",
              "mean     9087.064121  \n",
              "std      4611.359167  \n",
              "min      1759.000000  \n",
              "25%      5277.000000  \n",
              "50%      8372.000000  \n",
              "75%     12373.000000  \n",
              "max     79512.000000  "
            ]
          },
          "execution_count": 4,
          "metadata": {},
          "output_type": "execute_result"
        }
      ],
      "source": [
        "df.describe(include='all')"
      ]
    },
    {
      "cell_type": "code",
      "execution_count": 5,
      "metadata": {
        "colab": {
          "base_uri": "https://localhost:8080/"
        },
        "id": "Mduwjt4sw6aN",
        "outputId": "0736015a-bf81-4fad-f426-6b11a289502a"
      },
      "outputs": [
        {
          "name": "stdout",
          "output_type": "stream",
          "text": [
            "<class 'pandas.core.frame.DataFrame'>\n",
            "RangeIndex: 10683 entries, 0 to 10682\n",
            "Data columns (total 11 columns):\n",
            " #   Column           Non-Null Count  Dtype \n",
            "---  ------           --------------  ----- \n",
            " 0   Airline          10683 non-null  object\n",
            " 1   Date_of_Journey  10683 non-null  object\n",
            " 2   Source           10683 non-null  object\n",
            " 3   Destination      10683 non-null  object\n",
            " 4   Route            10682 non-null  object\n",
            " 5   Dep_Time         10683 non-null  object\n",
            " 6   Arrival_Time     10683 non-null  object\n",
            " 7   Duration         10683 non-null  object\n",
            " 8   Total_Stops      10682 non-null  object\n",
            " 9   Additional_Info  10683 non-null  object\n",
            " 10  Price            10683 non-null  int64 \n",
            "dtypes: int64(1), object(10)\n",
            "memory usage: 918.2+ KB\n"
          ]
        }
      ],
      "source": [
        "df.info()"
      ]
    },
    {
      "cell_type": "markdown",
      "metadata": {
        "id": "LiIW8pW2w6aN"
      },
      "source": [
        "### Initial observations:\n",
        "* **Date_of_Journey** is in a dd/mm/yyyy format but is parsed as object\n",
        "* **Route** is a complex string that needs to be processed\n",
        "* **Duration** is human-readable which should be converted to minutes\n",
        "* **Total_Stops** does not align with the actual Route details which can be corrected\n",
        "* **Arrival_Time** has ill-formatted data in places which should be addressed\n",
        "* **Source and Destination** have inconsistent values for the same city which should be cleaned"
      ]
    },
    {
      "cell_type": "markdown",
      "metadata": {
        "id": "WvF7cWlxw6aO"
      },
      "source": [
        "## Step 1: Preprocessing and Feature Engineering"
      ]
    },
    {
      "cell_type": "markdown",
      "metadata": {
        "id": "s9Im6JCsw6aO"
      },
      "source": [
        "### Step 1.1: Cleaning Source and Destination"
      ]
    },
    {
      "cell_type": "code",
      "execution_count": 6,
      "metadata": {
        "colab": {
          "base_uri": "https://localhost:8080/"
        },
        "id": "TDfyToEtw6aO",
        "outputId": "829208bc-7d4d-477b-be49-e9e99b9ccd73"
      },
      "outputs": [
        {
          "data": {
            "text/plain": [
              "Delhi       4537\n",
              "Kolkata     2871\n",
              "Banglore    2197\n",
              "Mumbai       697\n",
              "Chennai      381\n",
              "Name: Source, dtype: int64"
            ]
          },
          "execution_count": 6,
          "metadata": {},
          "output_type": "execute_result"
        }
      ],
      "source": [
        "df['Source'].value_counts()"
      ]
    },
    {
      "cell_type": "code",
      "execution_count": 7,
      "metadata": {
        "colab": {
          "base_uri": "https://localhost:8080/"
        },
        "id": "9nLpBDSMw6aP",
        "outputId": "3e0666a4-66a0-4593-cccf-3c16f3b70366"
      },
      "outputs": [
        {
          "data": {
            "text/plain": [
              "Cochin       4537\n",
              "Banglore     2871\n",
              "Delhi        1265\n",
              "New Delhi     932\n",
              "Hyderabad     697\n",
              "Kolkata       381\n",
              "Name: Destination, dtype: int64"
            ]
          },
          "execution_count": 7,
          "metadata": {},
          "output_type": "execute_result"
        }
      ],
      "source": [
        "df['Destination'].value_counts()"
      ]
    },
    {
      "cell_type": "code",
      "execution_count": 8,
      "metadata": {
        "id": "4fBCaOfBw6aP"
      },
      "outputs": [],
      "source": [
        "df['Source'].replace({\n",
        "    'Banglore': 'Bangalore',\n",
        "    'Delhi': 'New Delhi'\n",
        "    }, inplace=True)\n",
        "\n",
        "df['Destination'].replace({\n",
        "    'Delhi': 'New Delhi',\n",
        "    'Banglore': 'Bangalore'\n",
        "}, inplace=True)"
      ]
    },
    {
      "cell_type": "code",
      "execution_count": 9,
      "metadata": {
        "colab": {
          "base_uri": "https://localhost:8080/",
          "height": 284
        },
        "id": "4CJXLae9w6aP",
        "outputId": "50347585-52e2-4a85-a774-bb23e599abb4"
      },
      "outputs": [
        {
          "data": {
            "text/html": [
              "<div>\n",
              "<style scoped>\n",
              "    .dataframe tbody tr th:only-of-type {\n",
              "        vertical-align: middle;\n",
              "    }\n",
              "\n",
              "    .dataframe tbody tr th {\n",
              "        vertical-align: top;\n",
              "    }\n",
              "\n",
              "    .dataframe thead th {\n",
              "        text-align: right;\n",
              "    }\n",
              "</style>\n",
              "<table border=\"1\" class=\"dataframe\">\n",
              "  <thead>\n",
              "    <tr style=\"text-align: right;\">\n",
              "      <th></th>\n",
              "      <th>Airline</th>\n",
              "      <th>Date_of_Journey</th>\n",
              "      <th>Source</th>\n",
              "      <th>Destination</th>\n",
              "      <th>Route</th>\n",
              "      <th>Dep_Time</th>\n",
              "      <th>Arrival_Time</th>\n",
              "      <th>Duration</th>\n",
              "      <th>Total_Stops</th>\n",
              "      <th>Additional_Info</th>\n",
              "      <th>Price</th>\n",
              "    </tr>\n",
              "  </thead>\n",
              "  <tbody>\n",
              "    <tr>\n",
              "      <th>0</th>\n",
              "      <td>IndiGo</td>\n",
              "      <td>24/03/2019</td>\n",
              "      <td>Bangalore</td>\n",
              "      <td>New Delhi</td>\n",
              "      <td>BLR → DEL</td>\n",
              "      <td>22:20</td>\n",
              "      <td>01:10 22 Mar</td>\n",
              "      <td>2h 50m</td>\n",
              "      <td>non-stop</td>\n",
              "      <td>No info</td>\n",
              "      <td>3897</td>\n",
              "    </tr>\n",
              "    <tr>\n",
              "      <th>1</th>\n",
              "      <td>Air India</td>\n",
              "      <td>1/05/2019</td>\n",
              "      <td>Kolkata</td>\n",
              "      <td>Bangalore</td>\n",
              "      <td>CCU → IXR → BBI → BLR</td>\n",
              "      <td>05:50</td>\n",
              "      <td>13:15</td>\n",
              "      <td>7h 25m</td>\n",
              "      <td>2 stops</td>\n",
              "      <td>No info</td>\n",
              "      <td>7662</td>\n",
              "    </tr>\n",
              "    <tr>\n",
              "      <th>2</th>\n",
              "      <td>Jet Airways</td>\n",
              "      <td>9/06/2019</td>\n",
              "      <td>New Delhi</td>\n",
              "      <td>Cochin</td>\n",
              "      <td>DEL → LKO → BOM → COK</td>\n",
              "      <td>09:25</td>\n",
              "      <td>04:25 10 Jun</td>\n",
              "      <td>19h</td>\n",
              "      <td>2 stops</td>\n",
              "      <td>No info</td>\n",
              "      <td>13882</td>\n",
              "    </tr>\n",
              "    <tr>\n",
              "      <th>3</th>\n",
              "      <td>IndiGo</td>\n",
              "      <td>12/05/2019</td>\n",
              "      <td>Kolkata</td>\n",
              "      <td>Bangalore</td>\n",
              "      <td>CCU → NAG → BLR</td>\n",
              "      <td>18:05</td>\n",
              "      <td>23:30</td>\n",
              "      <td>5h 25m</td>\n",
              "      <td>1 stop</td>\n",
              "      <td>No info</td>\n",
              "      <td>6218</td>\n",
              "    </tr>\n",
              "    <tr>\n",
              "      <th>4</th>\n",
              "      <td>IndiGo</td>\n",
              "      <td>01/03/2019</td>\n",
              "      <td>Bangalore</td>\n",
              "      <td>New Delhi</td>\n",
              "      <td>BLR → NAG → DEL</td>\n",
              "      <td>16:50</td>\n",
              "      <td>21:35</td>\n",
              "      <td>4h 45m</td>\n",
              "      <td>1 stop</td>\n",
              "      <td>No info</td>\n",
              "      <td>13302</td>\n",
              "    </tr>\n",
              "  </tbody>\n",
              "</table>\n",
              "</div>"
            ],
            "text/plain": [
              "       Airline Date_of_Journey     Source Destination                  Route  \\\n",
              "0       IndiGo      24/03/2019  Bangalore   New Delhi              BLR → DEL   \n",
              "1    Air India       1/05/2019    Kolkata   Bangalore  CCU → IXR → BBI → BLR   \n",
              "2  Jet Airways       9/06/2019  New Delhi      Cochin  DEL → LKO → BOM → COK   \n",
              "3       IndiGo      12/05/2019    Kolkata   Bangalore        CCU → NAG → BLR   \n",
              "4       IndiGo      01/03/2019  Bangalore   New Delhi        BLR → NAG → DEL   \n",
              "\n",
              "  Dep_Time  Arrival_Time Duration Total_Stops Additional_Info  Price  \n",
              "0    22:20  01:10 22 Mar   2h 50m    non-stop         No info   3897  \n",
              "1    05:50         13:15   7h 25m     2 stops         No info   7662  \n",
              "2    09:25  04:25 10 Jun      19h     2 stops         No info  13882  \n",
              "3    18:05         23:30   5h 25m      1 stop         No info   6218  \n",
              "4    16:50         21:35   4h 45m      1 stop         No info  13302  "
            ]
          },
          "execution_count": 9,
          "metadata": {},
          "output_type": "execute_result"
        }
      ],
      "source": [
        "df.head()"
      ]
    },
    {
      "cell_type": "markdown",
      "metadata": {
        "id": "Q8rMhVmJw6aQ"
      },
      "source": [
        "### Step 1.2: Calculate Duration of flight in minutes"
      ]
    },
    {
      "cell_type": "code",
      "execution_count": 10,
      "metadata": {
        "id": "NTk-Y8wDw6aQ"
      },
      "outputs": [],
      "source": [
        "def calc_duration(dur:str):\n",
        "    try:\n",
        "        hours = int(re.search(r'(\\d{1,2})h', dur).groups()[0])\n",
        "    except Exception:\n",
        "        hours = 0\n",
        "    try:\n",
        "        minutes = int(re.search(r'(\\d{1,2})m', dur).groups()[0])\n",
        "    except Exception:\n",
        "        minutes = 0\n",
        "    return hours*60 + minutes"
      ]
    },
    {
      "cell_type": "code",
      "execution_count": 11,
      "metadata": {
        "id": "WYQBuOsvw6aQ"
      },
      "outputs": [],
      "source": [
        "df['duration'] = df['Duration'].apply(calc_duration)"
      ]
    },
    {
      "cell_type": "code",
      "execution_count": 12,
      "metadata": {
        "colab": {
          "base_uri": "https://localhost:8080/"
        },
        "id": "3zGZ06tbw6aQ",
        "outputId": "25f20c9d-abfd-4463-fa6f-5181705b8c80"
      },
      "outputs": [
        {
          "data": {
            "text/plain": [
              "count    10683.000000\n",
              "mean       643.093232\n",
              "std        507.862001\n",
              "min          5.000000\n",
              "25%        170.000000\n",
              "50%        520.000000\n",
              "75%        930.000000\n",
              "max       2860.000000\n",
              "Name: duration, dtype: float64"
            ]
          },
          "execution_count": 12,
          "metadata": {},
          "output_type": "execute_result"
        }
      ],
      "source": [
        "df['duration'].describe()"
      ]
    },
    {
      "cell_type": "markdown",
      "metadata": {
        "id": "QwzP1Atww6aR"
      },
      "source": [
        "### Step 1.3: Convert Stops to integer"
      ]
    },
    {
      "cell_type": "code",
      "execution_count": 13,
      "metadata": {
        "id": "jEe7yVLdw6aR"
      },
      "outputs": [],
      "source": [
        "df['stops'] = df['Total_Stops'].replace({\n",
        "    'non-stop': '0',\n",
        "    '1 stop': '1',\n",
        "    '2 stops': '2',\n",
        "    '3 stops': '3',\n",
        "    '4 stops': '4',\n",
        "})\n",
        "\n",
        "df['stops'].fillna('2', inplace=True)\n",
        "df['stops'] = df['stops'].astype(object)"
      ]
    },
    {
      "cell_type": "markdown",
      "metadata": {
        "id": "UUoekNQVw6aR"
      },
      "source": [
        "### Step 1.4: Explore Airlines"
      ]
    },
    {
      "cell_type": "code",
      "execution_count": 14,
      "metadata": {
        "colab": {
          "base_uri": "https://localhost:8080/"
        },
        "id": "5-BhsQZNw6aR",
        "outputId": "f78d7f53-5999-4502-aeb5-d0a963d14b12"
      },
      "outputs": [
        {
          "data": {
            "text/plain": [
              "Jet Airways                          3849\n",
              "IndiGo                               2053\n",
              "Air India                            1752\n",
              "Multiple carriers                    1196\n",
              "SpiceJet                              818\n",
              "Vistara                               479\n",
              "Air Asia                              319\n",
              "GoAir                                 194\n",
              "Multiple carriers Premium economy      13\n",
              "Jet Airways Business                    6\n",
              "Vistara Premium economy                 3\n",
              "Trujet                                  1\n",
              "Name: Airline, dtype: int64"
            ]
          },
          "execution_count": 14,
          "metadata": {},
          "output_type": "execute_result"
        }
      ],
      "source": [
        "df['Airline'].value_counts()"
      ]
    },
    {
      "cell_type": "code",
      "execution_count": 15,
      "metadata": {
        "id": "eKVp06jpw6aS"
      },
      "outputs": [],
      "source": [
        "# df['premium_econ'] = df['Airline'].apply(lambda x: 1 if 'Premium' in x else 0)\n",
        "# df['business'] = df['Airline'].apply(lambda x: 1 if 'Business' in x else 0)"
      ]
    },
    {
      "cell_type": "code",
      "execution_count": 16,
      "metadata": {
        "id": "o0Vh4vCTw6aS"
      },
      "outputs": [],
      "source": [
        "df['Airline'].replace({\n",
        "    'Vistara Premium economy': 'PremiumEcon',\n",
        "    'Multiple carriers Premium economy': 'PremiumEcon',\n",
        "    'Multiple carriers': 'Other',\n",
        "    'Jet Airways Business': 'Business',\n",
        "    'Trujet': 'Other'\n",
        "}, inplace=True)"
      ]
    },
    {
      "cell_type": "code",
      "execution_count": 17,
      "metadata": {
        "colab": {
          "base_uri": "https://localhost:8080/"
        },
        "id": "Ud8Ps3nLe9fd",
        "outputId": "1b60b402-7619-431b-af1b-1f42cd295260"
      },
      "outputs": [
        {
          "data": {
            "text/plain": [
              "Jet Airways    3849\n",
              "IndiGo         2053\n",
              "Air India      1752\n",
              "Other          1197\n",
              "SpiceJet        818\n",
              "Vistara         479\n",
              "Air Asia        319\n",
              "GoAir           194\n",
              "PremiumEcon      16\n",
              "Business          6\n",
              "Name: Airline, dtype: int64"
            ]
          },
          "execution_count": 17,
          "metadata": {},
          "output_type": "execute_result"
        }
      ],
      "source": [
        "df['Airline'].value_counts()"
      ]
    },
    {
      "cell_type": "code",
      "execution_count": 18,
      "metadata": {
        "colab": {
          "base_uri": "https://localhost:8080/",
          "height": 441
        },
        "id": "Ec_eN_sew6aS",
        "outputId": "a4aebbcf-5203-4544-ccc9-b0529528bcbe"
      },
      "outputs": [
        {
          "data": {
            "text/html": [
              "<div>\n",
              "<style scoped>\n",
              "    .dataframe tbody tr th:only-of-type {\n",
              "        vertical-align: middle;\n",
              "    }\n",
              "\n",
              "    .dataframe tbody tr th {\n",
              "        vertical-align: top;\n",
              "    }\n",
              "\n",
              "    .dataframe thead th {\n",
              "        text-align: right;\n",
              "    }\n",
              "</style>\n",
              "<table border=\"1\" class=\"dataframe\">\n",
              "  <thead>\n",
              "    <tr style=\"text-align: right;\">\n",
              "      <th></th>\n",
              "      <th>Airline</th>\n",
              "      <th>Date_of_Journey</th>\n",
              "      <th>Source</th>\n",
              "      <th>Destination</th>\n",
              "      <th>Route</th>\n",
              "      <th>Dep_Time</th>\n",
              "      <th>Arrival_Time</th>\n",
              "      <th>Duration</th>\n",
              "      <th>Total_Stops</th>\n",
              "      <th>Additional_Info</th>\n",
              "      <th>Price</th>\n",
              "      <th>duration</th>\n",
              "      <th>stops</th>\n",
              "    </tr>\n",
              "  </thead>\n",
              "  <tbody>\n",
              "    <tr>\n",
              "      <th>0</th>\n",
              "      <td>IndiGo</td>\n",
              "      <td>24/03/2019</td>\n",
              "      <td>Bangalore</td>\n",
              "      <td>New Delhi</td>\n",
              "      <td>BLR → DEL</td>\n",
              "      <td>22:20</td>\n",
              "      <td>01:10 22 Mar</td>\n",
              "      <td>2h 50m</td>\n",
              "      <td>non-stop</td>\n",
              "      <td>No info</td>\n",
              "      <td>3897</td>\n",
              "      <td>170</td>\n",
              "      <td>0</td>\n",
              "    </tr>\n",
              "    <tr>\n",
              "      <th>1</th>\n",
              "      <td>Air India</td>\n",
              "      <td>1/05/2019</td>\n",
              "      <td>Kolkata</td>\n",
              "      <td>Bangalore</td>\n",
              "      <td>CCU → IXR → BBI → BLR</td>\n",
              "      <td>05:50</td>\n",
              "      <td>13:15</td>\n",
              "      <td>7h 25m</td>\n",
              "      <td>2 stops</td>\n",
              "      <td>No info</td>\n",
              "      <td>7662</td>\n",
              "      <td>445</td>\n",
              "      <td>2</td>\n",
              "    </tr>\n",
              "    <tr>\n",
              "      <th>2</th>\n",
              "      <td>Jet Airways</td>\n",
              "      <td>9/06/2019</td>\n",
              "      <td>New Delhi</td>\n",
              "      <td>Cochin</td>\n",
              "      <td>DEL → LKO → BOM → COK</td>\n",
              "      <td>09:25</td>\n",
              "      <td>04:25 10 Jun</td>\n",
              "      <td>19h</td>\n",
              "      <td>2 stops</td>\n",
              "      <td>No info</td>\n",
              "      <td>13882</td>\n",
              "      <td>1140</td>\n",
              "      <td>2</td>\n",
              "    </tr>\n",
              "    <tr>\n",
              "      <th>3</th>\n",
              "      <td>IndiGo</td>\n",
              "      <td>12/05/2019</td>\n",
              "      <td>Kolkata</td>\n",
              "      <td>Bangalore</td>\n",
              "      <td>CCU → NAG → BLR</td>\n",
              "      <td>18:05</td>\n",
              "      <td>23:30</td>\n",
              "      <td>5h 25m</td>\n",
              "      <td>1 stop</td>\n",
              "      <td>No info</td>\n",
              "      <td>6218</td>\n",
              "      <td>325</td>\n",
              "      <td>1</td>\n",
              "    </tr>\n",
              "    <tr>\n",
              "      <th>4</th>\n",
              "      <td>IndiGo</td>\n",
              "      <td>01/03/2019</td>\n",
              "      <td>Bangalore</td>\n",
              "      <td>New Delhi</td>\n",
              "      <td>BLR → NAG → DEL</td>\n",
              "      <td>16:50</td>\n",
              "      <td>21:35</td>\n",
              "      <td>4h 45m</td>\n",
              "      <td>1 stop</td>\n",
              "      <td>No info</td>\n",
              "      <td>13302</td>\n",
              "      <td>285</td>\n",
              "      <td>1</td>\n",
              "    </tr>\n",
              "  </tbody>\n",
              "</table>\n",
              "</div>"
            ],
            "text/plain": [
              "       Airline Date_of_Journey     Source Destination                  Route  \\\n",
              "0       IndiGo      24/03/2019  Bangalore   New Delhi              BLR → DEL   \n",
              "1    Air India       1/05/2019    Kolkata   Bangalore  CCU → IXR → BBI → BLR   \n",
              "2  Jet Airways       9/06/2019  New Delhi      Cochin  DEL → LKO → BOM → COK   \n",
              "3       IndiGo      12/05/2019    Kolkata   Bangalore        CCU → NAG → BLR   \n",
              "4       IndiGo      01/03/2019  Bangalore   New Delhi        BLR → NAG → DEL   \n",
              "\n",
              "  Dep_Time  Arrival_Time Duration Total_Stops Additional_Info  Price  \\\n",
              "0    22:20  01:10 22 Mar   2h 50m    non-stop         No info   3897   \n",
              "1    05:50         13:15   7h 25m     2 stops         No info   7662   \n",
              "2    09:25  04:25 10 Jun      19h     2 stops         No info  13882   \n",
              "3    18:05         23:30   5h 25m      1 stop         No info   6218   \n",
              "4    16:50         21:35   4h 45m      1 stop         No info  13302   \n",
              "\n",
              "   duration stops  \n",
              "0       170     0  \n",
              "1       445     2  \n",
              "2      1140     2  \n",
              "3       325     1  \n",
              "4       285     1  "
            ]
          },
          "execution_count": 18,
          "metadata": {},
          "output_type": "execute_result"
        }
      ],
      "source": [
        "df.head()"
      ]
    },
    {
      "cell_type": "markdown",
      "metadata": {
        "id": "42jnJkoNw6aS"
      },
      "source": [
        "### Step 1.5: Flight Month"
      ]
    },
    {
      "cell_type": "code",
      "execution_count": 19,
      "metadata": {
        "id": "EiTdkdBfw6aT"
      },
      "outputs": [],
      "source": [
        "df['month'] = pd.to_datetime(df['Date_of_Journey'], format='%d/%m/%Y').dt.month\n",
        "df['month'] = df['month'].apply(lambda x: f'M{str(x)}')"
      ]
    },
    {
      "cell_type": "code",
      "execution_count": 20,
      "metadata": {
        "colab": {
          "base_uri": "https://localhost:8080/",
          "height": 651
        },
        "id": "pADevd-xw6aT",
        "outputId": "b25e6c8c-33b9-40d8-a040-be1130633fb6"
      },
      "outputs": [
        {
          "data": {
            "text/html": [
              "<div>\n",
              "<style scoped>\n",
              "    .dataframe tbody tr th:only-of-type {\n",
              "        vertical-align: middle;\n",
              "    }\n",
              "\n",
              "    .dataframe tbody tr th {\n",
              "        vertical-align: top;\n",
              "    }\n",
              "\n",
              "    .dataframe thead th {\n",
              "        text-align: right;\n",
              "    }\n",
              "</style>\n",
              "<table border=\"1\" class=\"dataframe\">\n",
              "  <thead>\n",
              "    <tr style=\"text-align: right;\">\n",
              "      <th></th>\n",
              "      <th>Airline</th>\n",
              "      <th>Date_of_Journey</th>\n",
              "      <th>Source</th>\n",
              "      <th>Destination</th>\n",
              "      <th>Route</th>\n",
              "      <th>Dep_Time</th>\n",
              "      <th>Arrival_Time</th>\n",
              "      <th>Duration</th>\n",
              "      <th>Total_Stops</th>\n",
              "      <th>Additional_Info</th>\n",
              "      <th>Price</th>\n",
              "      <th>duration</th>\n",
              "      <th>stops</th>\n",
              "      <th>month</th>\n",
              "    </tr>\n",
              "  </thead>\n",
              "  <tbody>\n",
              "    <tr>\n",
              "      <th>0</th>\n",
              "      <td>IndiGo</td>\n",
              "      <td>24/03/2019</td>\n",
              "      <td>Bangalore</td>\n",
              "      <td>New Delhi</td>\n",
              "      <td>BLR → DEL</td>\n",
              "      <td>22:20</td>\n",
              "      <td>01:10 22 Mar</td>\n",
              "      <td>2h 50m</td>\n",
              "      <td>non-stop</td>\n",
              "      <td>No info</td>\n",
              "      <td>3897</td>\n",
              "      <td>170</td>\n",
              "      <td>0</td>\n",
              "      <td>M3</td>\n",
              "    </tr>\n",
              "    <tr>\n",
              "      <th>1</th>\n",
              "      <td>Air India</td>\n",
              "      <td>1/05/2019</td>\n",
              "      <td>Kolkata</td>\n",
              "      <td>Bangalore</td>\n",
              "      <td>CCU → IXR → BBI → BLR</td>\n",
              "      <td>05:50</td>\n",
              "      <td>13:15</td>\n",
              "      <td>7h 25m</td>\n",
              "      <td>2 stops</td>\n",
              "      <td>No info</td>\n",
              "      <td>7662</td>\n",
              "      <td>445</td>\n",
              "      <td>2</td>\n",
              "      <td>M5</td>\n",
              "    </tr>\n",
              "    <tr>\n",
              "      <th>2</th>\n",
              "      <td>Jet Airways</td>\n",
              "      <td>9/06/2019</td>\n",
              "      <td>New Delhi</td>\n",
              "      <td>Cochin</td>\n",
              "      <td>DEL → LKO → BOM → COK</td>\n",
              "      <td>09:25</td>\n",
              "      <td>04:25 10 Jun</td>\n",
              "      <td>19h</td>\n",
              "      <td>2 stops</td>\n",
              "      <td>No info</td>\n",
              "      <td>13882</td>\n",
              "      <td>1140</td>\n",
              "      <td>2</td>\n",
              "      <td>M6</td>\n",
              "    </tr>\n",
              "    <tr>\n",
              "      <th>3</th>\n",
              "      <td>IndiGo</td>\n",
              "      <td>12/05/2019</td>\n",
              "      <td>Kolkata</td>\n",
              "      <td>Bangalore</td>\n",
              "      <td>CCU → NAG → BLR</td>\n",
              "      <td>18:05</td>\n",
              "      <td>23:30</td>\n",
              "      <td>5h 25m</td>\n",
              "      <td>1 stop</td>\n",
              "      <td>No info</td>\n",
              "      <td>6218</td>\n",
              "      <td>325</td>\n",
              "      <td>1</td>\n",
              "      <td>M5</td>\n",
              "    </tr>\n",
              "    <tr>\n",
              "      <th>4</th>\n",
              "      <td>IndiGo</td>\n",
              "      <td>01/03/2019</td>\n",
              "      <td>Bangalore</td>\n",
              "      <td>New Delhi</td>\n",
              "      <td>BLR → NAG → DEL</td>\n",
              "      <td>16:50</td>\n",
              "      <td>21:35</td>\n",
              "      <td>4h 45m</td>\n",
              "      <td>1 stop</td>\n",
              "      <td>No info</td>\n",
              "      <td>13302</td>\n",
              "      <td>285</td>\n",
              "      <td>1</td>\n",
              "      <td>M3</td>\n",
              "    </tr>\n",
              "  </tbody>\n",
              "</table>\n",
              "</div>"
            ],
            "text/plain": [
              "       Airline Date_of_Journey     Source Destination                  Route  \\\n",
              "0       IndiGo      24/03/2019  Bangalore   New Delhi              BLR → DEL   \n",
              "1    Air India       1/05/2019    Kolkata   Bangalore  CCU → IXR → BBI → BLR   \n",
              "2  Jet Airways       9/06/2019  New Delhi      Cochin  DEL → LKO → BOM → COK   \n",
              "3       IndiGo      12/05/2019    Kolkata   Bangalore        CCU → NAG → BLR   \n",
              "4       IndiGo      01/03/2019  Bangalore   New Delhi        BLR → NAG → DEL   \n",
              "\n",
              "  Dep_Time  Arrival_Time Duration Total_Stops Additional_Info  Price  \\\n",
              "0    22:20  01:10 22 Mar   2h 50m    non-stop         No info   3897   \n",
              "1    05:50         13:15   7h 25m     2 stops         No info   7662   \n",
              "2    09:25  04:25 10 Jun      19h     2 stops         No info  13882   \n",
              "3    18:05         23:30   5h 25m      1 stop         No info   6218   \n",
              "4    16:50         21:35   4h 45m      1 stop         No info  13302   \n",
              "\n",
              "   duration stops month  \n",
              "0       170     0    M3  \n",
              "1       445     2    M5  \n",
              "2      1140     2    M6  \n",
              "3       325     1    M5  \n",
              "4       285     1    M3  "
            ]
          },
          "execution_count": 20,
          "metadata": {},
          "output_type": "execute_result"
        }
      ],
      "source": [
        "df.head()"
      ]
    },
    {
      "cell_type": "markdown",
      "metadata": {
        "id": "qNmtNm0kw6aT"
      },
      "source": [
        "### Step 1.6: Weekend"
      ]
    },
    {
      "cell_type": "code",
      "execution_count": 21,
      "metadata": {
        "id": "oWLU3hWkw6aT"
      },
      "outputs": [],
      "source": [
        "df['weekend'] = pd.to_datetime(df['Date_of_Journey'], format='%d/%m/%Y').dt.day_of_week\n",
        "df['weekend'] = df['weekend'].apply(lambda x: 1 if x in (5,6) else 0)"
      ]
    },
    {
      "cell_type": "markdown",
      "metadata": {
        "id": "5Y5D653xw6aU"
      },
      "source": [
        "## Step 2: Prepare Data"
      ]
    },
    {
      "cell_type": "markdown",
      "metadata": {
        "id": "zFFbZl7nw6aU"
      },
      "source": [
        "### Step 2.1 Subset Data"
      ]
    },
    {
      "cell_type": "code",
      "execution_count": 22,
      "metadata": {
        "colab": {
          "base_uri": "https://localhost:8080/",
          "height": 206
        },
        "id": "ZFvhBlAGw6aU",
        "outputId": "8a72a9fc-7b5b-4f76-86bd-c4c29b97ae83"
      },
      "outputs": [
        {
          "data": {
            "text/html": [
              "<div>\n",
              "<style scoped>\n",
              "    .dataframe tbody tr th:only-of-type {\n",
              "        vertical-align: middle;\n",
              "    }\n",
              "\n",
              "    .dataframe tbody tr th {\n",
              "        vertical-align: top;\n",
              "    }\n",
              "\n",
              "    .dataframe thead th {\n",
              "        text-align: right;\n",
              "    }\n",
              "</style>\n",
              "<table border=\"1\" class=\"dataframe\">\n",
              "  <thead>\n",
              "    <tr style=\"text-align: right;\">\n",
              "      <th></th>\n",
              "      <th>Airline</th>\n",
              "      <th>Source</th>\n",
              "      <th>Destination</th>\n",
              "      <th>stops</th>\n",
              "      <th>month</th>\n",
              "      <th>weekend</th>\n",
              "      <th>Price</th>\n",
              "    </tr>\n",
              "  </thead>\n",
              "  <tbody>\n",
              "    <tr>\n",
              "      <th>0</th>\n",
              "      <td>IndiGo</td>\n",
              "      <td>Bangalore</td>\n",
              "      <td>New Delhi</td>\n",
              "      <td>0</td>\n",
              "      <td>M3</td>\n",
              "      <td>1</td>\n",
              "      <td>3897</td>\n",
              "    </tr>\n",
              "    <tr>\n",
              "      <th>1</th>\n",
              "      <td>Air India</td>\n",
              "      <td>Kolkata</td>\n",
              "      <td>Bangalore</td>\n",
              "      <td>2</td>\n",
              "      <td>M5</td>\n",
              "      <td>0</td>\n",
              "      <td>7662</td>\n",
              "    </tr>\n",
              "    <tr>\n",
              "      <th>2</th>\n",
              "      <td>Jet Airways</td>\n",
              "      <td>New Delhi</td>\n",
              "      <td>Cochin</td>\n",
              "      <td>2</td>\n",
              "      <td>M6</td>\n",
              "      <td>1</td>\n",
              "      <td>13882</td>\n",
              "    </tr>\n",
              "    <tr>\n",
              "      <th>3</th>\n",
              "      <td>IndiGo</td>\n",
              "      <td>Kolkata</td>\n",
              "      <td>Bangalore</td>\n",
              "      <td>1</td>\n",
              "      <td>M5</td>\n",
              "      <td>1</td>\n",
              "      <td>6218</td>\n",
              "    </tr>\n",
              "    <tr>\n",
              "      <th>4</th>\n",
              "      <td>IndiGo</td>\n",
              "      <td>Bangalore</td>\n",
              "      <td>New Delhi</td>\n",
              "      <td>1</td>\n",
              "      <td>M3</td>\n",
              "      <td>0</td>\n",
              "      <td>13302</td>\n",
              "    </tr>\n",
              "  </tbody>\n",
              "</table>\n",
              "</div>"
            ],
            "text/plain": [
              "       Airline     Source Destination stops month  weekend  Price\n",
              "0       IndiGo  Bangalore   New Delhi     0    M3        1   3897\n",
              "1    Air India    Kolkata   Bangalore     2    M5        0   7662\n",
              "2  Jet Airways  New Delhi      Cochin     2    M6        1  13882\n",
              "3       IndiGo    Kolkata   Bangalore     1    M5        1   6218\n",
              "4       IndiGo  Bangalore   New Delhi     1    M3        0  13302"
            ]
          },
          "execution_count": 22,
          "metadata": {},
          "output_type": "execute_result"
        }
      ],
      "source": [
        "df2 = df[['Airline', 'Source', 'Destination', 'stops', 'month', 'weekend', 'Price']]\n",
        "df2.head()"
      ]
    },
    {
      "cell_type": "code",
      "execution_count": 23,
      "metadata": {
        "id": "QGvguKOJw6aU"
      },
      "outputs": [],
      "source": [
        "df2 = df2.convert_dtypes()"
      ]
    },
    {
      "cell_type": "code",
      "execution_count": 24,
      "metadata": {
        "colab": {
          "base_uri": "https://localhost:8080/"
        },
        "id": "ssXO4QCZfOOd",
        "outputId": "c06bd6f7-d992-4bb3-a476-52444544049b"
      },
      "outputs": [
        {
          "data": {
            "text/plain": [
              "Airline        string\n",
              "Source         string\n",
              "Destination    string\n",
              "stops          string\n",
              "month          string\n",
              "weekend         Int64\n",
              "Price           Int64\n",
              "dtype: object"
            ]
          },
          "execution_count": 24,
          "metadata": {},
          "output_type": "execute_result"
        }
      ],
      "source": [
        "df2.dtypes"
      ]
    },
    {
      "cell_type": "code",
      "execution_count": 25,
      "metadata": {
        "colab": {
          "base_uri": "https://localhost:8080/",
          "height": 206
        },
        "id": "QQz_4GVtw6aU",
        "outputId": "0242366f-404c-4ee4-b292-ed004c2211ef"
      },
      "outputs": [
        {
          "data": {
            "text/html": [
              "<div>\n",
              "<style scoped>\n",
              "    .dataframe tbody tr th:only-of-type {\n",
              "        vertical-align: middle;\n",
              "    }\n",
              "\n",
              "    .dataframe tbody tr th {\n",
              "        vertical-align: top;\n",
              "    }\n",
              "\n",
              "    .dataframe thead th {\n",
              "        text-align: right;\n",
              "    }\n",
              "</style>\n",
              "<table border=\"1\" class=\"dataframe\">\n",
              "  <thead>\n",
              "    <tr style=\"text-align: right;\">\n",
              "      <th></th>\n",
              "      <th>Airline</th>\n",
              "      <th>Source</th>\n",
              "      <th>Destination</th>\n",
              "      <th>stops</th>\n",
              "      <th>month</th>\n",
              "      <th>weekend</th>\n",
              "      <th>Price</th>\n",
              "    </tr>\n",
              "  </thead>\n",
              "  <tbody>\n",
              "    <tr>\n",
              "      <th>0</th>\n",
              "      <td>IndiGo</td>\n",
              "      <td>Bangalore</td>\n",
              "      <td>New Delhi</td>\n",
              "      <td>0</td>\n",
              "      <td>M3</td>\n",
              "      <td>1</td>\n",
              "      <td>3897</td>\n",
              "    </tr>\n",
              "    <tr>\n",
              "      <th>1</th>\n",
              "      <td>Air India</td>\n",
              "      <td>Kolkata</td>\n",
              "      <td>Bangalore</td>\n",
              "      <td>2</td>\n",
              "      <td>M5</td>\n",
              "      <td>0</td>\n",
              "      <td>7662</td>\n",
              "    </tr>\n",
              "    <tr>\n",
              "      <th>2</th>\n",
              "      <td>Jet Airways</td>\n",
              "      <td>New Delhi</td>\n",
              "      <td>Cochin</td>\n",
              "      <td>2</td>\n",
              "      <td>M6</td>\n",
              "      <td>1</td>\n",
              "      <td>13882</td>\n",
              "    </tr>\n",
              "    <tr>\n",
              "      <th>3</th>\n",
              "      <td>IndiGo</td>\n",
              "      <td>Kolkata</td>\n",
              "      <td>Bangalore</td>\n",
              "      <td>1</td>\n",
              "      <td>M5</td>\n",
              "      <td>1</td>\n",
              "      <td>6218</td>\n",
              "    </tr>\n",
              "    <tr>\n",
              "      <th>4</th>\n",
              "      <td>IndiGo</td>\n",
              "      <td>Bangalore</td>\n",
              "      <td>New Delhi</td>\n",
              "      <td>1</td>\n",
              "      <td>M3</td>\n",
              "      <td>0</td>\n",
              "      <td>13302</td>\n",
              "    </tr>\n",
              "  </tbody>\n",
              "</table>\n",
              "</div>"
            ],
            "text/plain": [
              "       Airline     Source Destination stops month  weekend  Price\n",
              "0       IndiGo  Bangalore   New Delhi     0    M3        1   3897\n",
              "1    Air India    Kolkata   Bangalore     2    M5        0   7662\n",
              "2  Jet Airways  New Delhi      Cochin     2    M6        1  13882\n",
              "3       IndiGo    Kolkata   Bangalore     1    M5        1   6218\n",
              "4       IndiGo  Bangalore   New Delhi     1    M3        0  13302"
            ]
          },
          "execution_count": 25,
          "metadata": {},
          "output_type": "execute_result"
        }
      ],
      "source": [
        "df2.head()"
      ]
    },
    {
      "cell_type": "code",
      "execution_count": 26,
      "metadata": {
        "colab": {
          "base_uri": "https://localhost:8080/"
        },
        "id": "BpR5mSGPw6aU",
        "outputId": "fcc0a8de-3b2a-44e3-ecab-1ad6c02b2d9b"
      },
      "outputs": [
        {
          "data": {
            "text/plain": [
              "array(['Airline', 'Source', 'Destination', 'stops', 'month'], dtype=object)"
            ]
          },
          "execution_count": 26,
          "metadata": {},
          "output_type": "execute_result"
        }
      ],
      "source": [
        "cat_ = df2.dtypes[df2.dtypes.values=='string'].keys().values\n",
        "for col in cat_:\n",
        "    df2[col] = df2[col].astype(object)\n",
        "cat_"
      ]
    },
    {
      "cell_type": "code",
      "execution_count": 27,
      "metadata": {
        "id": "0gWMTGZww6aV"
      },
      "outputs": [],
      "source": [
        "df3 = pd.get_dummies(df2, drop_first=True)\n",
        "df3['weekend'] = df3['weekend'].astype(int)"
      ]
    },
    {
      "cell_type": "code",
      "execution_count": 28,
      "metadata": {
        "colab": {
          "base_uri": "https://localhost:8080/",
          "height": 316
        },
        "id": "xoSuxPcZw6aV",
        "outputId": "7e0ef513-b7e4-498c-b320-9a79cab69067"
      },
      "outputs": [
        {
          "data": {
            "text/html": [
              "<div>\n",
              "<style scoped>\n",
              "    .dataframe tbody tr th:only-of-type {\n",
              "        vertical-align: middle;\n",
              "    }\n",
              "\n",
              "    .dataframe tbody tr th {\n",
              "        vertical-align: top;\n",
              "    }\n",
              "\n",
              "    .dataframe thead th {\n",
              "        text-align: right;\n",
              "    }\n",
              "</style>\n",
              "<table border=\"1\" class=\"dataframe\">\n",
              "  <thead>\n",
              "    <tr style=\"text-align: right;\">\n",
              "      <th></th>\n",
              "      <th>weekend</th>\n",
              "      <th>Price</th>\n",
              "      <th>Airline_Air India</th>\n",
              "      <th>Airline_Business</th>\n",
              "      <th>Airline_GoAir</th>\n",
              "      <th>Airline_IndiGo</th>\n",
              "      <th>Airline_Jet Airways</th>\n",
              "      <th>Airline_Other</th>\n",
              "      <th>Airline_PremiumEcon</th>\n",
              "      <th>Airline_SpiceJet</th>\n",
              "      <th>...</th>\n",
              "      <th>Destination_Hyderabad</th>\n",
              "      <th>Destination_Kolkata</th>\n",
              "      <th>Destination_New Delhi</th>\n",
              "      <th>stops_1</th>\n",
              "      <th>stops_2</th>\n",
              "      <th>stops_3</th>\n",
              "      <th>stops_4</th>\n",
              "      <th>month_M4</th>\n",
              "      <th>month_M5</th>\n",
              "      <th>month_M6</th>\n",
              "    </tr>\n",
              "  </thead>\n",
              "  <tbody>\n",
              "    <tr>\n",
              "      <th>0</th>\n",
              "      <td>1</td>\n",
              "      <td>3897</td>\n",
              "      <td>0</td>\n",
              "      <td>0</td>\n",
              "      <td>0</td>\n",
              "      <td>1</td>\n",
              "      <td>0</td>\n",
              "      <td>0</td>\n",
              "      <td>0</td>\n",
              "      <td>0</td>\n",
              "      <td>...</td>\n",
              "      <td>0</td>\n",
              "      <td>0</td>\n",
              "      <td>1</td>\n",
              "      <td>0</td>\n",
              "      <td>0</td>\n",
              "      <td>0</td>\n",
              "      <td>0</td>\n",
              "      <td>0</td>\n",
              "      <td>0</td>\n",
              "      <td>0</td>\n",
              "    </tr>\n",
              "    <tr>\n",
              "      <th>1</th>\n",
              "      <td>0</td>\n",
              "      <td>7662</td>\n",
              "      <td>1</td>\n",
              "      <td>0</td>\n",
              "      <td>0</td>\n",
              "      <td>0</td>\n",
              "      <td>0</td>\n",
              "      <td>0</td>\n",
              "      <td>0</td>\n",
              "      <td>0</td>\n",
              "      <td>...</td>\n",
              "      <td>0</td>\n",
              "      <td>0</td>\n",
              "      <td>0</td>\n",
              "      <td>0</td>\n",
              "      <td>1</td>\n",
              "      <td>0</td>\n",
              "      <td>0</td>\n",
              "      <td>0</td>\n",
              "      <td>1</td>\n",
              "      <td>0</td>\n",
              "    </tr>\n",
              "    <tr>\n",
              "      <th>2</th>\n",
              "      <td>1</td>\n",
              "      <td>13882</td>\n",
              "      <td>0</td>\n",
              "      <td>0</td>\n",
              "      <td>0</td>\n",
              "      <td>0</td>\n",
              "      <td>1</td>\n",
              "      <td>0</td>\n",
              "      <td>0</td>\n",
              "      <td>0</td>\n",
              "      <td>...</td>\n",
              "      <td>0</td>\n",
              "      <td>0</td>\n",
              "      <td>0</td>\n",
              "      <td>0</td>\n",
              "      <td>1</td>\n",
              "      <td>0</td>\n",
              "      <td>0</td>\n",
              "      <td>0</td>\n",
              "      <td>0</td>\n",
              "      <td>1</td>\n",
              "    </tr>\n",
              "    <tr>\n",
              "      <th>3</th>\n",
              "      <td>1</td>\n",
              "      <td>6218</td>\n",
              "      <td>0</td>\n",
              "      <td>0</td>\n",
              "      <td>0</td>\n",
              "      <td>1</td>\n",
              "      <td>0</td>\n",
              "      <td>0</td>\n",
              "      <td>0</td>\n",
              "      <td>0</td>\n",
              "      <td>...</td>\n",
              "      <td>0</td>\n",
              "      <td>0</td>\n",
              "      <td>0</td>\n",
              "      <td>1</td>\n",
              "      <td>0</td>\n",
              "      <td>0</td>\n",
              "      <td>0</td>\n",
              "      <td>0</td>\n",
              "      <td>1</td>\n",
              "      <td>0</td>\n",
              "    </tr>\n",
              "    <tr>\n",
              "      <th>4</th>\n",
              "      <td>0</td>\n",
              "      <td>13302</td>\n",
              "      <td>0</td>\n",
              "      <td>0</td>\n",
              "      <td>0</td>\n",
              "      <td>1</td>\n",
              "      <td>0</td>\n",
              "      <td>0</td>\n",
              "      <td>0</td>\n",
              "      <td>0</td>\n",
              "      <td>...</td>\n",
              "      <td>0</td>\n",
              "      <td>0</td>\n",
              "      <td>1</td>\n",
              "      <td>1</td>\n",
              "      <td>0</td>\n",
              "      <td>0</td>\n",
              "      <td>0</td>\n",
              "      <td>0</td>\n",
              "      <td>0</td>\n",
              "      <td>0</td>\n",
              "    </tr>\n",
              "  </tbody>\n",
              "</table>\n",
              "<p>5 rows × 26 columns</p>\n",
              "</div>"
            ],
            "text/plain": [
              "   weekend  Price  Airline_Air India  Airline_Business  Airline_GoAir  \\\n",
              "0        1   3897                  0                 0              0   \n",
              "1        0   7662                  1                 0              0   \n",
              "2        1  13882                  0                 0              0   \n",
              "3        1   6218                  0                 0              0   \n",
              "4        0  13302                  0                 0              0   \n",
              "\n",
              "   Airline_IndiGo  Airline_Jet Airways  Airline_Other  Airline_PremiumEcon  \\\n",
              "0               1                    0              0                    0   \n",
              "1               0                    0              0                    0   \n",
              "2               0                    1              0                    0   \n",
              "3               1                    0              0                    0   \n",
              "4               1                    0              0                    0   \n",
              "\n",
              "   Airline_SpiceJet  ...  Destination_Hyderabad  Destination_Kolkata  \\\n",
              "0                 0  ...                      0                    0   \n",
              "1                 0  ...                      0                    0   \n",
              "2                 0  ...                      0                    0   \n",
              "3                 0  ...                      0                    0   \n",
              "4                 0  ...                      0                    0   \n",
              "\n",
              "   Destination_New Delhi  stops_1  stops_2  stops_3  stops_4  month_M4  \\\n",
              "0                      1        0        0        0        0         0   \n",
              "1                      0        0        1        0        0         0   \n",
              "2                      0        0        1        0        0         0   \n",
              "3                      0        1        0        0        0         0   \n",
              "4                      1        1        0        0        0         0   \n",
              "\n",
              "   month_M5  month_M6  \n",
              "0         0         0  \n",
              "1         1         0  \n",
              "2         0         1  \n",
              "3         1         0  \n",
              "4         0         0  \n",
              "\n",
              "[5 rows x 26 columns]"
            ]
          },
          "execution_count": 28,
          "metadata": {},
          "output_type": "execute_result"
        }
      ],
      "source": [
        "df3.head()"
      ]
    },
    {
      "cell_type": "markdown",
      "metadata": {
        "id": "2YXa21EPw6aV"
      },
      "source": [
        "### Step 2.2: Split Data"
      ]
    },
    {
      "cell_type": "code",
      "execution_count": 29,
      "metadata": {
        "colab": {
          "base_uri": "https://localhost:8080/"
        },
        "id": "6blJPJybw6aV",
        "outputId": "62d3e93e-929c-4ea7-dcdc-86ab2d38e7ba"
      },
      "outputs": [
        {
          "name": "stdout",
          "output_type": "stream",
          "text": [
            "(10683, 25) (10683, 1)\n"
          ]
        }
      ],
      "source": [
        "X = df3.drop('Price', axis=1)\n",
        "Y = np.array(df3['Price'].values).reshape(-1, 1)\n",
        "print(X.shape, Y.shape)"
      ]
    },
    {
      "cell_type": "code",
      "execution_count": 30,
      "metadata": {
        "id": "VYz2CNpyw6aV"
      },
      "outputs": [],
      "source": [
        "xtrain, xval, ytrain, yval = train_test_split(X, Y, train_size=0.7, random_state=42)"
      ]
    },
    {
      "cell_type": "markdown",
      "metadata": {
        "id": "GptewZyOw6aV"
      },
      "source": [
        "## Step 3: Setup models"
      ]
    },
    {
      "cell_type": "markdown",
      "metadata": {
        "id": "xbP8c1oPw6aW"
      },
      "source": [
        "### Step 3.1: Set up functions"
      ]
    },
    {
      "cell_type": "code",
      "execution_count": 31,
      "metadata": {
        "id": "lM4RKmD2w6aW"
      },
      "outputs": [],
      "source": [
        "def fit_etc(X, Y):\n",
        "    \"\"\"\n",
        "    Args:\n",
        "        X: Dataframe of dummy encoded predictor variables\n",
        "        Y: Series or Numpy array of target price\n",
        "    Returns:\n",
        "        grid search object model for ExtraTrees Regressor\n",
        "    \"\"\"\n",
        "    etc = ExtraTreesRegressor(random_state=42)\n",
        "    param_grid = {\n",
        "        'n_estimators': [100, 250, 500],\n",
        "        'max_depth': [2, 4, 8],\n",
        "        'min_samples_split': [5, 10, 50],  \n",
        "        'min_samples_leaf': [4, 8]\n",
        "    }\n",
        "    cv = KFold(n_splits = 5)\n",
        "    grid_search = GridSearchCV(\n",
        "        estimator=etc,\n",
        "        param_grid=param_grid,\n",
        "        cv=cv,\n",
        "        scoring='neg_mean_squared_error'\n",
        "    )\n",
        "    grid_search.fit(X, Y)\n",
        "    return grid_search\n",
        "\n",
        "def fit_rf(X, Y):\n",
        "    \"\"\"\n",
        "    Args:\n",
        "        X: Dataframe of dummy encoded predictor variables\n",
        "        Y: Series or Numpy array of target price\n",
        "    Returns:\n",
        "        grid search object model for RandomForest Regressor\n",
        "    \"\"\"\n",
        "    rf = RandomForestRegressor(random_state=42)\n",
        "    param_grid = {\n",
        "        'n_estimators': [100, 250, 500],\n",
        "        'max_depth': [2, 4, 8],\n",
        "        'min_samples_split': [5, 10, 50],  \n",
        "        'min_samples_leaf': [4, 8]\n",
        "    }\n",
        "    cv = KFold(n_splits = 5)\n",
        "    grid_search = GridSearchCV(\n",
        "        estimator=rf,\n",
        "        param_grid=param_grid,\n",
        "        cv=cv,\n",
        "        scoring='neg_mean_squared_error'\n",
        "    )\n",
        "    grid_search.fit(X, Y)\n",
        "    return grid_search\n",
        "\n",
        "\n",
        "def fit_lgbm(X, Y):\n",
        "    \"\"\"\n",
        "    Args:\n",
        "        X: Dataframe of dummy encoded predictor variables\n",
        "        Y: Series or Numpy array of target price\n",
        "    Returns:\n",
        "        grid search object model for LightGBM Regressor\n",
        "    \"\"\"\n",
        "    lgbm = LGBMRegressor(random_state=42,)\n",
        "    param_grid = {\n",
        "        'n_estimators': [100, 250, 500],\n",
        "        'max_depth': [2, 4, 8],\n",
        "        'subsample': [0.25, 0.5, 0.75, 1],\n",
        "        'reg_alpha': [0.25, 0.5, 0.75, 1]\n",
        "    }\n",
        "    cv = KFold(n_splits = 5)\n",
        "    grid_search = GridSearchCV(\n",
        "        estimator=lgbm,\n",
        "        param_grid=param_grid,\n",
        "        cv=cv,\n",
        "        scoring='neg_mean_squared_error'\n",
        "    )\n",
        "    grid_search.fit(X, Y)\n",
        "    return grid_search\n",
        "\n",
        "\n",
        "def fit_lasso(X, Y):\n",
        "    \"\"\"\n",
        "    Args:\n",
        "        X: Dataframe of dummy encoded predictor variables\n",
        "        Y: Series or Numpy array of target price\n",
        "    Returns:\n",
        "        Lasso Regression object\n",
        "    \"\"\"\n",
        "    lasso = Lasso(random_state=42)\n",
        "    lasso.fit(X, Y)\n",
        "    return lasso\n"
      ]
    },
    {
      "cell_type": "markdown",
      "metadata": {
        "id": "B9zRmWvnw6aW"
      },
      "source": [
        "### Step 3.2: Build Models"
      ]
    },
    {
      "cell_type": "code",
      "execution_count": 32,
      "metadata": {
        "colab": {
          "base_uri": "https://localhost:8080/"
        },
        "id": "IOo_PvVyiu-e",
        "outputId": "9ab6f7e9-b86c-4545-9e6e-c5a6af86b54a"
      },
      "outputs": [
        {
          "data": {
            "text/plain": [
              "(7478, 1)"
            ]
          },
          "execution_count": 32,
          "metadata": {},
          "output_type": "execute_result"
        }
      ],
      "source": [
        "ytrain.shape"
      ]
    },
    {
      "cell_type": "code",
      "execution_count": 33,
      "metadata": {
        "id": "95vpPCeshdmS"
      },
      "outputs": [],
      "source": [
        "lasso_model = fit_lasso(xtrain, ytrain)"
      ]
    },
    {
      "cell_type": "code",
      "execution_count": 34,
      "metadata": {
        "id": "vie4aWkWhrbU"
      },
      "outputs": [],
      "source": [
        "lgbm_model = fit_lgbm(xtrain, ytrain.ravel())"
      ]
    },
    {
      "cell_type": "code",
      "execution_count": 37,
      "metadata": {
        "id": "kurskBDgw6aW"
      },
      "outputs": [],
      "source": [
        "etc_model = fit_etc(xtrain, ytrain.ravel())"
      ]
    },
    {
      "cell_type": "code",
      "execution_count": 38,
      "metadata": {
        "id": "FmuIRW-ew6aW"
      },
      "outputs": [],
      "source": [
        "rf_model = fit_rf(xtrain, ytrain.ravel())"
      ]
    },
    {
      "attachments": {},
      "cell_type": "markdown",
      "metadata": {},
      "source": [
        "### Step 3.3.2 Load Models"
      ]
    },
    {
      "cell_type": "markdown",
      "metadata": {
        "id": "6Tjjur1zw6aW"
      },
      "source": [
        "### Step 3.3: Evaluate Predictions on Validation set"
      ]
    },
    {
      "cell_type": "code",
      "execution_count": 33,
      "metadata": {
        "id": "kNlj-QlGw6aW"
      },
      "outputs": [],
      "source": [
        "Y_pred_etc = etc_model.predict(xval)\n",
        "Y_pred_rf = rf_model.predict(xval)\n",
        "Y_pred_lgbm = lgbm_model.predict(xval)\n",
        "Y_pred_lasso = lasso_model.predict(xval)"
      ]
    },
    {
      "cell_type": "code",
      "execution_count": 34,
      "metadata": {
        "colab": {
          "base_uri": "https://localhost:8080/"
        },
        "id": "jNbMqC-Ew6aW",
        "outputId": "106405ef-3510-42fa-8ab0-78e13584fb87"
      },
      "outputs": [
        {
          "name": "stdout",
          "output_type": "stream",
          "text": [
            "2760.8366691709675\n",
            "2712.3621118982655\n",
            "2582.0316787111847\n",
            "2826.152243098584\n"
          ]
        }
      ],
      "source": [
        "print(np.sqrt(mean_squared_error(yval, Y_pred_etc)))\n",
        "print(np.sqrt(mean_squared_error(yval, Y_pred_rf)))\n",
        "print(np.sqrt(mean_squared_error(yval, Y_pred_lgbm)))\n",
        "print(np.sqrt(mean_squared_error(yval, Y_pred_lasso)))"
      ]
    },
    {
      "cell_type": "code",
      "execution_count": 36,
      "metadata": {},
      "outputs": [
        {
          "name": "stdout",
          "output_type": "stream",
          "text": [
            "1803.1784503272168\n",
            "1781.0237287470231\n",
            "1686.070415242155\n",
            "1958.9193812435674\n"
          ]
        }
      ],
      "source": [
        "print(mean_absolute_error(yval, Y_pred_etc))\n",
        "print(mean_absolute_error(yval, Y_pred_rf))\n",
        "print(mean_absolute_error(yval, Y_pred_lgbm))\n",
        "print(mean_absolute_error(yval, Y_pred_lasso))"
      ]
    },
    {
      "cell_type": "code",
      "execution_count": null,
      "metadata": {},
      "outputs": [],
      "source": []
    },
    {
      "cell_type": "code",
      "execution_count": 42,
      "metadata": {
        "id": "Nf3PmtXHw6aX"
      },
      "outputs": [],
      "source": [
        "fimp = pd.DataFrame()\n",
        "fimp['variable'] = xtrain.columns\n",
        "fimp['rf_imp'] = rf_model.best_estimator_.feature_importances_\n",
        "fimp['etc_imp'] = etc_model.best_estimator_.feature_importances_\n",
        "fimp.sort_values(by='rf_imp', ascending=False, inplace=True)\n",
        "fimp.reset_index(drop=True, inplace=True)"
      ]
    },
    {
      "cell_type": "code",
      "execution_count": 43,
      "metadata": {
        "colab": {
          "base_uri": "https://localhost:8080/",
          "height": 206
        },
        "id": "IbVxaxliw6aX",
        "outputId": "89a335ae-7255-46e7-dac1-cfb2ea220447"
      },
      "outputs": [
        {
          "data": {
            "text/html": [
              "\n",
              "  <div id=\"df-af6ba60c-cb24-4a36-936d-f6d3f1f1155c\">\n",
              "    <div class=\"colab-df-container\">\n",
              "      <div>\n",
              "<style scoped>\n",
              "    .dataframe tbody tr th:only-of-type {\n",
              "        vertical-align: middle;\n",
              "    }\n",
              "\n",
              "    .dataframe tbody tr th {\n",
              "        vertical-align: top;\n",
              "    }\n",
              "\n",
              "    .dataframe thead th {\n",
              "        text-align: right;\n",
              "    }\n",
              "</style>\n",
              "<table border=\"1\" class=\"dataframe\">\n",
              "  <thead>\n",
              "    <tr style=\"text-align: right;\">\n",
              "      <th></th>\n",
              "      <th>variable</th>\n",
              "      <th>rf_imp</th>\n",
              "      <th>etc_imp</th>\n",
              "    </tr>\n",
              "  </thead>\n",
              "  <tbody>\n",
              "    <tr>\n",
              "      <th>0</th>\n",
              "      <td>Airline_Jet Airways</td>\n",
              "      <td>0.269496</td>\n",
              "      <td>0.278590</td>\n",
              "    </tr>\n",
              "    <tr>\n",
              "      <th>1</th>\n",
              "      <td>stops_2</td>\n",
              "      <td>0.211976</td>\n",
              "      <td>0.220660</td>\n",
              "    </tr>\n",
              "    <tr>\n",
              "      <th>2</th>\n",
              "      <td>stops_1</td>\n",
              "      <td>0.197701</td>\n",
              "      <td>0.198963</td>\n",
              "    </tr>\n",
              "    <tr>\n",
              "      <th>3</th>\n",
              "      <td>Airline_Business</td>\n",
              "      <td>0.042299</td>\n",
              "      <td>0.000000</td>\n",
              "    </tr>\n",
              "    <tr>\n",
              "      <th>4</th>\n",
              "      <td>Airline_Other</td>\n",
              "      <td>0.038126</td>\n",
              "      <td>0.039754</td>\n",
              "    </tr>\n",
              "  </tbody>\n",
              "</table>\n",
              "</div>\n",
              "      <button class=\"colab-df-convert\" onclick=\"convertToInteractive('df-af6ba60c-cb24-4a36-936d-f6d3f1f1155c')\"\n",
              "              title=\"Convert this dataframe to an interactive table.\"\n",
              "              style=\"display:none;\">\n",
              "        \n",
              "  <svg xmlns=\"http://www.w3.org/2000/svg\" height=\"24px\"viewBox=\"0 0 24 24\"\n",
              "       width=\"24px\">\n",
              "    <path d=\"M0 0h24v24H0V0z\" fill=\"none\"/>\n",
              "    <path d=\"M18.56 5.44l.94 2.06.94-2.06 2.06-.94-2.06-.94-.94-2.06-.94 2.06-2.06.94zm-11 1L8.5 8.5l.94-2.06 2.06-.94-2.06-.94L8.5 2.5l-.94 2.06-2.06.94zm10 10l.94 2.06.94-2.06 2.06-.94-2.06-.94-.94-2.06-.94 2.06-2.06.94z\"/><path d=\"M17.41 7.96l-1.37-1.37c-.4-.4-.92-.59-1.43-.59-.52 0-1.04.2-1.43.59L10.3 9.45l-7.72 7.72c-.78.78-.78 2.05 0 2.83L4 21.41c.39.39.9.59 1.41.59.51 0 1.02-.2 1.41-.59l7.78-7.78 2.81-2.81c.8-.78.8-2.07 0-2.86zM5.41 20L4 18.59l7.72-7.72 1.47 1.35L5.41 20z\"/>\n",
              "  </svg>\n",
              "      </button>\n",
              "      \n",
              "  <style>\n",
              "    .colab-df-container {\n",
              "      display:flex;\n",
              "      flex-wrap:wrap;\n",
              "      gap: 12px;\n",
              "    }\n",
              "\n",
              "    .colab-df-convert {\n",
              "      background-color: #E8F0FE;\n",
              "      border: none;\n",
              "      border-radius: 50%;\n",
              "      cursor: pointer;\n",
              "      display: none;\n",
              "      fill: #1967D2;\n",
              "      height: 32px;\n",
              "      padding: 0 0 0 0;\n",
              "      width: 32px;\n",
              "    }\n",
              "\n",
              "    .colab-df-convert:hover {\n",
              "      background-color: #E2EBFA;\n",
              "      box-shadow: 0px 1px 2px rgba(60, 64, 67, 0.3), 0px 1px 3px 1px rgba(60, 64, 67, 0.15);\n",
              "      fill: #174EA6;\n",
              "    }\n",
              "\n",
              "    [theme=dark] .colab-df-convert {\n",
              "      background-color: #3B4455;\n",
              "      fill: #D2E3FC;\n",
              "    }\n",
              "\n",
              "    [theme=dark] .colab-df-convert:hover {\n",
              "      background-color: #434B5C;\n",
              "      box-shadow: 0px 1px 3px 1px rgba(0, 0, 0, 0.15);\n",
              "      filter: drop-shadow(0px 1px 2px rgba(0, 0, 0, 0.3));\n",
              "      fill: #FFFFFF;\n",
              "    }\n",
              "  </style>\n",
              "\n",
              "      <script>\n",
              "        const buttonEl =\n",
              "          document.querySelector('#df-af6ba60c-cb24-4a36-936d-f6d3f1f1155c button.colab-df-convert');\n",
              "        buttonEl.style.display =\n",
              "          google.colab.kernel.accessAllowed ? 'block' : 'none';\n",
              "\n",
              "        async function convertToInteractive(key) {\n",
              "          const element = document.querySelector('#df-af6ba60c-cb24-4a36-936d-f6d3f1f1155c');\n",
              "          const dataTable =\n",
              "            await google.colab.kernel.invokeFunction('convertToInteractive',\n",
              "                                                     [key], {});\n",
              "          if (!dataTable) return;\n",
              "\n",
              "          const docLinkHtml = 'Like what you see? Visit the ' +\n",
              "            '<a target=\"_blank\" href=https://colab.research.google.com/notebooks/data_table.ipynb>data table notebook</a>'\n",
              "            + ' to learn more about interactive tables.';\n",
              "          element.innerHTML = '';\n",
              "          dataTable['output_type'] = 'display_data';\n",
              "          await google.colab.output.renderOutput(dataTable, element);\n",
              "          const docLink = document.createElement('div');\n",
              "          docLink.innerHTML = docLinkHtml;\n",
              "          element.appendChild(docLink);\n",
              "        }\n",
              "      </script>\n",
              "    </div>\n",
              "  </div>\n",
              "  "
            ],
            "text/plain": [
              "              variable    rf_imp   etc_imp\n",
              "0  Airline_Jet Airways  0.269496  0.278590\n",
              "1              stops_2  0.211976  0.220660\n",
              "2              stops_1  0.197701  0.198963\n",
              "3     Airline_Business  0.042299  0.000000\n",
              "4        Airline_Other  0.038126  0.039754"
            ]
          },
          "execution_count": 43,
          "metadata": {},
          "output_type": "execute_result"
        }
      ],
      "source": [
        "fimp.head()"
      ]
    },
    {
      "cell_type": "markdown",
      "metadata": {
        "id": "K198hhpYw6aX"
      },
      "source": [
        "## Step 4: Evaluate predictions"
      ]
    },
    {
      "cell_type": "markdown",
      "metadata": {
        "id": "_nTYkpaSw6aX"
      },
      "source": [
        "### Step 4.1: Scoring on Train"
      ]
    },
    {
      "cell_type": "code",
      "execution_count": 44,
      "metadata": {
        "colab": {
          "base_uri": "https://localhost:8080/"
        },
        "id": "esuRODIZw6aY",
        "outputId": "76283c12-8e91-447b-8c2f-fc9f0908394d"
      },
      "outputs": [
        {
          "data": {
            "text/plain": [
              "0.6337870711665167"
            ]
          },
          "execution_count": 44,
          "metadata": {},
          "output_type": "execute_result"
        }
      ],
      "source": [
        "rf_model.best_estimator_.score(xtrain, ytrain)"
      ]
    },
    {
      "cell_type": "code",
      "execution_count": 45,
      "metadata": {
        "colab": {
          "base_uri": "https://localhost:8080/"
        },
        "id": "4fMZbHTww6aY",
        "outputId": "ffd899fe-fd81-427f-f993-f5d6334a7fcd"
      },
      "outputs": [
        {
          "data": {
            "text/plain": [
              "0.6032178975108285"
            ]
          },
          "execution_count": 45,
          "metadata": {},
          "output_type": "execute_result"
        }
      ],
      "source": [
        "etc_model.best_estimator_.score(xtrain, ytrain)"
      ]
    },
    {
      "cell_type": "code",
      "execution_count": 46,
      "metadata": {
        "colab": {
          "base_uri": "https://localhost:8080/"
        },
        "id": "qBx5YxfPtvj_",
        "outputId": "ac2bc671-e3cb-4965-d0a3-ccf869ca661e"
      },
      "outputs": [
        {
          "data": {
            "text/plain": [
              "0.6801420795954882"
            ]
          },
          "execution_count": 46,
          "metadata": {},
          "output_type": "execute_result"
        }
      ],
      "source": [
        "lgbm_model.best_estimator_.score(xtrain, ytrain)"
      ]
    },
    {
      "cell_type": "code",
      "execution_count": 47,
      "metadata": {
        "colab": {
          "base_uri": "https://localhost:8080/"
        },
        "id": "By6Oc1Uutz2q",
        "outputId": "a0978b71-7f55-4fce-ff17-79d6d2af089c"
      },
      "outputs": [
        {
          "data": {
            "text/plain": [
              "0.6160352805387812"
            ]
          },
          "execution_count": 47,
          "metadata": {},
          "output_type": "execute_result"
        }
      ],
      "source": [
        "lasso_model.score(xtrain, ytrain)"
      ]
    },
    {
      "cell_type": "code",
      "execution_count": 48,
      "metadata": {
        "colab": {
          "base_uri": "https://localhost:8080/"
        },
        "id": "-6KsnKG2uFPb",
        "outputId": "17980003-1d9b-4606-c60a-853dd674ae78"
      },
      "outputs": [
        {
          "data": {
            "text/plain": [
              "array([10844, 4959, 14781, 3858, 12898, 10529, 16079, 7229, 3597, 16289],\n",
              "      dtype=object)"
            ]
          },
          "execution_count": 48,
          "metadata": {},
          "output_type": "execute_result"
        }
      ],
      "source": [
        "yval[:10].ravel()"
      ]
    },
    {
      "cell_type": "markdown",
      "metadata": {
        "id": "TOVMRGgow6aY"
      },
      "source": [
        "### Step 4.2: Plot of difference"
      ]
    },
    {
      "cell_type": "code",
      "execution_count": 49,
      "metadata": {
        "colab": {
          "base_uri": "https://localhost:8080/",
          "height": 387
        },
        "id": "ePCWMBv-w6aY",
        "outputId": "7e11f5af-a4a8-48e5-a7c6-93a59340ad5f"
      },
      "outputs": [
        {
          "data": {
            "text/plain": [
              "<Figure size 720x144 with 0 Axes>"
            ]
          },
          "metadata": {},
          "output_type": "display_data"
        },
        {
          "data": {
            "image/png": "[encoded data removed]",
            "text/plain": [
              "<Figure size 360x360 with 1 Axes>"
            ]
          },
          "metadata": {
            "needs_background": "light"
          },
          "output_type": "display_data"
        }
      ],
      "source": [
        "plt.figure(figsize=(10, 2))\n",
        "sns.displot(Y_pred_etc - yval.ravel())\n",
        "plt.show()"
      ]
    },
    {
      "cell_type": "code",
      "execution_count": 50,
      "metadata": {
        "colab": {
          "base_uri": "https://localhost:8080/",
          "height": 387
        },
        "id": "mgddp-f-t_Hc",
        "outputId": "c564ce47-42b3-4445-bb53-34d9126430c9"
      },
      "outputs": [
        {
          "data": {
            "text/plain": [
              "<Figure size 720x144 with 0 Axes>"
            ]
          },
          "metadata": {},
          "output_type": "display_data"
        },
        {
          "data": {
            "image/png": "[encoded data removed]",
            "text/plain": [
              "<Figure size 360x360 with 1 Axes>"
            ]
          },
          "metadata": {
            "needs_background": "light"
          },
          "output_type": "display_data"
        }
      ],
      "source": [
        "plt.figure(figsize=(10, 2))\n",
        "sns.displot(Y_pred_rf - yval.ravel())\n",
        "plt.show()"
      ]
    },
    {
      "cell_type": "code",
      "execution_count": 51,
      "metadata": {
        "colab": {
          "base_uri": "https://localhost:8080/",
          "height": 369
        },
        "id": "zcQD7p2LuARP",
        "outputId": "21665fdb-8af8-4c8c-9e12-62cf88726c05"
      },
      "outputs": [
        {
          "data": {
            "image/png": "[encoded data removed]",
            "text/plain": [
              "<Figure size 360x360 with 1 Axes>"
            ]
          },
          "metadata": {
            "needs_background": "light"
          },
          "output_type": "display_data"
        }
      ],
      "source": [
        "sns.displot(Y_pred_lgbm - yval.ravel())\n",
        "plt.show()"
      ]
    },
    {
      "cell_type": "code",
      "execution_count": 52,
      "metadata": {
        "colab": {
          "base_uri": "https://localhost:8080/",
          "height": 369
        },
        "id": "TNAi4TU6uAOy",
        "outputId": "5f893857-0a04-48c7-bccb-24580a12f7e0"
      },
      "outputs": [
        {
          "data": {
            "image/png": "[encoded data removed]",
            "text/plain": [
              "<Figure size 360x360 with 1 Axes>"
            ]
          },
          "metadata": {
            "needs_background": "light"
          },
          "output_type": "display_data"
        }
      ],
      "source": [
        "sns.displot(Y_pred_lasso - yval.ravel())\n",
        "plt.show()"
      ]
    },
    {
      "cell_type": "code",
      "execution_count": 53,
      "metadata": {
        "colab": {
          "base_uri": "https://localhost:8080/",
          "height": 314
        },
        "id": "_x41hA2Bw6aY",
        "outputId": "829dc533-3c80-48d8-80f7-61e265215103"
      },
      "outputs": [
        {
          "data": {
            "text/plain": [
              "Text(0.5, 1.0, 'Scatter Plot of predictions - RF')"
            ]
          },
          "execution_count": 53,
          "metadata": {},
          "output_type": "execute_result"
        },
        {
          "data": {
            "image/png": "[encoded data removed]",
            "text/plain": [
              "<Figure size 720x288 with 1 Axes>"
            ]
          },
          "metadata": {
            "needs_background": "light"
          },
          "output_type": "display_data"
        }
      ],
      "source": [
        "plt.figure(figsize=(10,4))\n",
        "plt.scatter( yval, Y_pred_rf, color='orange', alpha=0.75)\n",
        "plt.xlabel(\"Actual\", size=10)\n",
        "plt.ylabel(\"Predicted\", size=10)\n",
        "plt.title(\"Scatter Plot of predictions - RF\", size=14)"
      ]
    },
    {
      "cell_type": "code",
      "execution_count": 54,
      "metadata": {
        "colab": {
          "base_uri": "https://localhost:8080/",
          "height": 314
        },
        "id": "hR6-RPrKw6aZ",
        "outputId": "95665ba6-d5b5-420b-a1a5-84ad6a3a0ca4"
      },
      "outputs": [
        {
          "data": {
            "text/plain": [
              "Text(0.5, 1.0, 'Scatter Plot of predictions - ETC')"
            ]
          },
          "execution_count": 54,
          "metadata": {},
          "output_type": "execute_result"
        },
        {
          "data": {
            "image/png": "[encoded data removed]",
            "text/plain": [
              "<Figure size 720x288 with 1 Axes>"
            ]
          },
          "metadata": {
            "needs_background": "light"
          },
          "output_type": "display_data"
        }
      ],
      "source": [
        "plt.figure(figsize=(10,4))\n",
        "plt.scatter( yval, Y_pred_etc, color='orange', alpha=0.75)\n",
        "plt.xlabel(\"Actual\", size=10)\n",
        "plt.ylabel(\"Predicted\", size=10)\n",
        "plt.title(\"Scatter Plot of predictions - ETC\", size=14)"
      ]
    },
    {
      "cell_type": "code",
      "execution_count": 55,
      "metadata": {
        "colab": {
          "base_uri": "https://localhost:8080/",
          "height": 314
        },
        "id": "VDoBhjyRui15",
        "outputId": "e3df4555-bf9d-4170-c836-c5d3cbf6f204"
      },
      "outputs": [
        {
          "data": {
            "text/plain": [
              "Text(0.5, 1.0, 'Scatter Plot of predictions - LGBM')"
            ]
          },
          "execution_count": 55,
          "metadata": {},
          "output_type": "execute_result"
        },
        {
          "data": {
            "image/png": "[encoded data removed]",
            "text/plain": [
              "<Figure size 720x288 with 1 Axes>"
            ]
          },
          "metadata": {
            "needs_background": "light"
          },
          "output_type": "display_data"
        }
      ],
      "source": [
        "plt.figure(figsize=(10,4))\n",
        "plt.scatter( yval, Y_pred_lgbm, color='orange', alpha=0.75)\n",
        "plt.xlabel(\"Actual\", size=10)\n",
        "plt.ylabel(\"Predicted\", size=10)\n",
        "plt.title(\"Scatter Plot of predictions - LGBM\", size=14)"
      ]
    },
    {
      "cell_type": "code",
      "execution_count": 56,
      "metadata": {
        "colab": {
          "base_uri": "https://localhost:8080/",
          "height": 314
        },
        "id": "um4hn7vVumzx",
        "outputId": "23c7159d-d84d-423b-be64-a3ca2aaacd71"
      },
      "outputs": [
        {
          "data": {
            "text/plain": [
              "Text(0.5, 1.0, 'Scatter Plot of predictions - Lasso')"
            ]
          },
          "execution_count": 56,
          "metadata": {},
          "output_type": "execute_result"
        },
        {
          "data": {
            "image/png": "[encoded data removed]",
            "text/plain": [
              "<Figure size 720x288 with 1 Axes>"
            ]
          },
          "metadata": {
            "needs_background": "light"
          },
          "output_type": "display_data"
        }
      ],
      "source": [
        "plt.figure(figsize=(10,4))\n",
        "plt.scatter( yval, Y_pred_lasso, color='orange', alpha=0.75)\n",
        "plt.xlabel(\"Actual\", size=10)\n",
        "plt.ylabel(\"Predicted\", size=10)\n",
        "plt.title(\"Scatter Plot of predictions - Lasso\", size=14)"
      ]
    },
    {
      "cell_type": "code",
      "execution_count": 57,
      "metadata": {
        "colab": {
          "base_uri": "https://localhost:8080/"
        },
        "id": "S1KK0c3Ww6aZ",
        "outputId": "8aa76eaa-fa9c-4908-f1ef-5745337bfcd8"
      },
      "outputs": [
        {
          "name": "stdout",
          "output_type": "stream",
          "text": [
            "R-squared score for RF: 0.6357682794899819\n",
            "R-squared score for ETC: 0.6226330549967585\n",
            "R-squared score for LGBM: 0.669930375276053\n",
            "R-squared score for Lasso: 0.6045664319333961\n"
          ]
        }
      ],
      "source": [
        "print(f\"R-squared score for RF: {r2_score(yval, Y_pred_rf)}\")\n",
        "print(f\"R-squared score for ETC: {r2_score(yval, Y_pred_etc)}\")\n",
        "print(f\"R-squared score for LGBM: {r2_score(yval, Y_pred_lgbm)}\")\n",
        "print(f\"R-squared score for Lasso: {r2_score(yval, Y_pred_lasso)}\")"
      ]
    },
    {
      "cell_type": "markdown",
      "metadata": {
        "id": "J9gc38fOw6aZ"
      },
      "source": [
        "## Step 5: Pre-processing & Setup"
      ]
    },
    {
      "cell_type": "markdown",
      "metadata": {
        "id": "StKs9_1Iw6aZ"
      },
      "source": [
        "### Step 5.1: Define preprocessing function"
      ]
    },
    {
      "cell_type": "code",
      "execution_count": 58,
      "metadata": {
        "id": "HgwXmYilw6aa"
      },
      "outputs": [],
      "source": [
        "def preprocess(dataframe):\n",
        "    df = dataframe.copy()\n",
        "    \"\"\"\n",
        "    Args: \n",
        "        df: dataframe\n",
        "\n",
        "    Returns: \n",
        "        processed dataframe with dummy variables\n",
        "    \"\"\"\n",
        "\n",
        "    # Step 1: Clean Source\n",
        "    df['Source'].replace(\n",
        "        {'Banglore': 'Bangalore','Delhi': 'New Delhi'},\n",
        "    inplace=True)\n",
        "    \n",
        "    # Step 2: Clean Destination\n",
        "    df['Destination'].replace(\n",
        "        {'Delhi': 'New Delhi','Banglore': 'Bangalore'},\n",
        "    inplace=True)\n",
        "\n",
        "    # Step 3: Feature engineer stops\n",
        "    df['stops'] = df['Total_Stops'].replace({\n",
        "        'non-stop': '0',\n",
        "        '1 stop': '1',\n",
        "        '2 stops': '2',\n",
        "        '3 stops': '3',\n",
        "        '4 stops': '4',\n",
        "    })\n",
        "    df['stops'].fillna(df['stops'].mode(), inplace=True)\n",
        "    df['stops'] = df['stops'].astype(object)\n",
        "    df.drop(\"Total_Stops\", axis=1, inplace=True)\n",
        "\n",
        "    # Step 4: Clean Airline Options\n",
        "    df['Airline'].replace({\n",
        "        'Vistara Premium economy': 'PremiumEcon',\n",
        "        'Multiple carriers Premium economy': 'PremiumEcon',\n",
        "        'Multiple carriers': 'Other',\n",
        "        'Jet Airways Business': 'Business',\n",
        "        'Trujet': 'Other'\n",
        "    }, inplace=True)\n",
        "\n",
        "    # Step 5: Calculate month of flight\n",
        "    df['month'] = pd.to_datetime(df['Date_of_Journey'], format='%d/%m/%Y').\\\n",
        "    dt.month\n",
        "    df['month'] = df['month'].apply(lambda x: f'M{str(x)}')\n",
        "\n",
        "    # Step 6: Calculate weekend\n",
        "    df['weekend'] = pd.to_datetime(df['Date_of_Journey'], format='%d/%m/%Y').\\\n",
        "    dt.day_of_week\n",
        "    df['weekend'] = df['weekend'].apply(lambda x: 1 if x in (5,6) else 0)\n",
        "    \n",
        "    # Step 7: Convert to dummy variables\n",
        "    dfr = df[['Airline', 'Source', 'Destination', 'stops', 'month', 'weekend', \n",
        "              'Price']].copy()\n",
        "\n",
        "    dfr = dfr.convert_dtypes()\n",
        "    \n",
        "    cat_ = dfr.dtypes[dfr.dtypes.values=='string'].keys().values\n",
        "    for col in cat_:\n",
        "        dfr[col] = dfr[col].astype(object)\n",
        "    \n",
        "    return pd.get_dummies(dfr, drop_first=True)"
      ]
    },
    {
      "cell_type": "code",
      "execution_count": 59,
      "metadata": {
        "id": "fWrIVO3Dw6aa"
      },
      "outputs": [],
      "source": [
        "assert not set(X.columns).difference(set(preprocess(train).columns))"
      ]
    },
    {
      "cell_type": "code",
      "execution_count": 67,
      "metadata": {
        "colab": {
          "base_uri": "https://localhost:8080/"
        },
        "id": "WLCRKSn9wIGy",
        "outputId": "9a84eee9-9c7a-43cd-a061-3d6a95592f01"
      },
      "outputs": [
        {
          "data": {
            "text/plain": [
              "Index(['weekend', 'Airline_Air India', 'Airline_Business', 'Airline_GoAir',\n",
              "       'Airline_IndiGo', 'Airline_Jet Airways', 'Airline_Other',\n",
              "       'Airline_PremiumEcon', 'Airline_SpiceJet', 'Airline_Vistara',\n",
              "       'Source_Chennai', 'Source_Kolkata', 'Source_Mumbai', 'Source_New Delhi',\n",
              "       'Destination_Cochin', 'Destination_Hyderabad', 'Destination_Kolkata',\n",
              "       'Destination_New Delhi', 'stops_1', 'stops_2', 'stops_3', 'stops_4',\n",
              "       'month_M4', 'month_M5', 'month_M6'],\n",
              "      dtype='object')"
            ]
          },
          "execution_count": 67,
          "metadata": {},
          "output_type": "execute_result"
        }
      ],
      "source": [
        "xtrain.columns"
      ]
    },
    {
      "cell_type": "code",
      "execution_count": 68,
      "metadata": {
        "colab": {
          "base_uri": "https://localhost:8080/"
        },
        "id": "ghsRGLNbwULw",
        "outputId": "aad78a71-f0f3-4008-c302-b7ee05b6f81f"
      },
      "outputs": [
        {
          "data": {
            "text/plain": [
              "array(['weekend', 'Airline_Air India', 'Airline_Business',\n",
              "       'Airline_GoAir', 'Airline_IndiGo', 'Airline_Jet Airways',\n",
              "       'Airline_Other', 'Airline_PremiumEcon', 'Airline_SpiceJet',\n",
              "       'Airline_Vistara', 'Source_Chennai', 'Source_Kolkata',\n",
              "       'Source_Mumbai', 'Source_New Delhi', 'Destination_Cochin',\n",
              "       'Destination_Hyderabad', 'Destination_Kolkata',\n",
              "       'Destination_New Delhi', 'stops_1', 'stops_2', 'stops_3',\n",
              "       'stops_4', 'month_M4', 'month_M5', 'month_M6'], dtype=object)"
            ]
          },
          "execution_count": 68,
          "metadata": {},
          "output_type": "execute_result"
        }
      ],
      "source": [
        "rf_model.feature_names_in_"
      ]
    },
    {
      "cell_type": "markdown",
      "metadata": {
        "id": "W3M-NThGw6ab"
      },
      "source": [
        "### Step 5.2: Export Models"
      ]
    },
    {
      "cell_type": "code",
      "execution_count": 60,
      "metadata": {
        "id": "iOGoJa_nw6ab"
      },
      "outputs": [],
      "source": [
        "with open('rf_grid.pkl', 'wb') as f:\n",
        "    pickle.dump(rf_model.best_estimator_, f)"
      ]
    },
    {
      "cell_type": "code",
      "execution_count": 61,
      "metadata": {
        "id": "TEgmqg7pw6ab"
      },
      "outputs": [],
      "source": [
        "with open('etc_grid.pkl', 'wb') as f:\n",
        "    pickle.dump(etc_model.best_estimator_, f)"
      ]
    },
    {
      "cell_type": "code",
      "execution_count": 62,
      "metadata": {
        "id": "TsGwxA4zvzU8"
      },
      "outputs": [],
      "source": [
        "with open('lgbm_grid.pkl', 'wb') as f:\n",
        "    pickle.dump(lgbm_model.best_estimator_, f)"
      ]
    },
    {
      "cell_type": "code",
      "execution_count": 63,
      "metadata": {
        "id": "jWARFd1qvz6S"
      },
      "outputs": [],
      "source": [
        "with open('lasso.pkl', 'wb') as f:\n",
        "    pickle.dump(lasso_model, f)"
      ]
    },
    {
      "cell_type": "code",
      "execution_count": null,
      "metadata": {
        "id": "3BDxZtJktkLj"
      },
      "outputs": [],
      "source": []
    }
  ],
  "metadata": {
    "colab": {
      "provenance": []
    },
    "kernelspec": {
      "display_name": "Python 3.9.12 ('base')",
      "language": "python",
      "name": "python3"
    },
    "language_info": {
      "codemirror_mode": {
        "name": "ipython",
        "version": 3
      },
      "file_extension": ".py",
      "mimetype": "text/x-python",
      "name": "python",
      "nbconvert_exporter": "python",
      "pygments_lexer": "ipython3",
      "version": "3.9.12"
    },
    "vscode": {
      "interpreter": {
        "hash": "75ab0dbb214edaab6515133873d2efa034c930f5fb9c632182be980f51facb98"
      }
    }
  },
  "nbformat": 4,
  "nbformat_minor": 0
}
